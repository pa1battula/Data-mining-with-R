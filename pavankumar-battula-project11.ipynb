{
 "cells": [
  {
   "cell_type": "markdown",
   "id": "be02a957-7133-4d02-818e-fedeb3cecb05",
   "metadata": {},
   "source": [
    "# Project 11 -- [Pavan Kumar] [battula]"
   ]
  },
  {
   "cell_type": "markdown",
   "id": "a1228853-dd19-4ab2-89e0-0394d7d72de3",
   "metadata": {},
   "source": [
    "**TA Help:** N/A\n",
    "    \n",
    "**Collaboration:** N/A\n",
    "    "
   ]
  },
  {
   "cell_type": "markdown",
   "id": "6180e742-8e39-4698-98ff-5b00c8cf8ea0",
   "metadata": {},
   "source": [
    "## Question 1"
   ]
  },
  {
   "cell_type": "code",
   "execution_count": 2,
   "id": "49445606-d363-41b4-b479-e319a9a84c01",
   "metadata": {},
   "outputs": [],
   "source": [
    "library(data.table)\n",
    "options(jupyter.rich_display = F)\n",
    "options(repr.matrix.max.cols=30, repr.matrix.max.rows=200)"
   ]
  },
  {
   "cell_type": "code",
   "execution_count": 3,
   "id": "0b2af610-c39d-4606-ad23-fbb117b45192",
   "metadata": {},
   "outputs": [],
   "source": [
    "orders <- fread(\"/anvil/projects/tdm/data/restaurant/orders.csv\")"
   ]
  },
  {
   "cell_type": "code",
   "execution_count": 8,
   "id": "2ff87a7f-0db7-4065-9382-423ef3704a2c",
   "metadata": {},
   "outputs": [
    {
     "data": {
      "text/plain": [
       "[1] \"2019-08-01 05:30:16 UTC\" \"2019-08-01 05:31:10 UTC\"\n",
       "[3] \"2019-08-01 05:31:33 UTC\" \"2019-08-01 05:34:54 UTC\"\n",
       "[5] \"2019-08-01 05:35:51 UTC\" \"2019-08-01 05:37:05 UTC\""
      ]
     },
     "metadata": {},
     "output_type": "display_data"
    }
   ],
   "source": [
    "head(orders$created_at)"
   ]
  },
  {
   "cell_type": "code",
   "execution_count": 6,
   "id": "b9207ae3-555f-490a-afbc-6a1103898c10",
   "metadata": {},
   "outputs": [
    {
     "data": {
      "text/html": [
       "<style>\n",
       ".list-inline {list-style: none; margin:0; padding: 0}\n",
       ".list-inline>li {display: inline-block}\n",
       ".list-inline>li:not(:last-child)::after {content: \"\\00b7\"; padding: 0 .5ex}\n",
       "</style>\n",
       "<ol class=list-inline><li>'08-01-2019'</li><li>'08-01-2019'</li><li>'08-01-2019'</li><li>'08-01-2019'</li><li>'08-01-2019'</li><li>'08-01-2019'</li></ol>\n"
      ],
      "text/latex": [
       "\\begin{enumerate*}\n",
       "\\item '08-01-2019'\n",
       "\\item '08-01-2019'\n",
       "\\item '08-01-2019'\n",
       "\\item '08-01-2019'\n",
       "\\item '08-01-2019'\n",
       "\\item '08-01-2019'\n",
       "\\end{enumerate*}\n"
      ],
      "text/markdown": [
       "1. '08-01-2019'\n",
       "2. '08-01-2019'\n",
       "3. '08-01-2019'\n",
       "4. '08-01-2019'\n",
       "5. '08-01-2019'\n",
       "6. '08-01-2019'\n",
       "\n",
       "\n"
      ],
      "text/plain": [
       "[1] \"08-01-2019\" \"08-01-2019\" \"08-01-2019\" \"08-01-2019\" \"08-01-2019\"\n",
       "[6] \"08-01-2019\""
      ]
     },
     "metadata": {},
     "output_type": "display_data"
    }
   ],
   "source": [
    "format(head(orders$created_at), \"%m-%d-%Y\")"
   ]
  },
  {
   "cell_type": "code",
   "execution_count": 4,
   "id": "e60b095b-a92c-4f07-8b6b-ffb48bb33167",
   "metadata": {},
   "outputs": [
    {
     "data": {
      "text/html": [
       "2"
      ],
      "text/latex": [
       "2"
      ],
      "text/markdown": [
       "2"
      ],
      "text/plain": [
       "[1] 2"
      ]
     },
     "metadata": {},
     "output_type": "display_data"
    }
   ],
   "source": [
    "length(unique(year(orders$created_at)))"
   ]
  },
  {
   "cell_type": "code",
   "execution_count": 9,
   "id": "91e60b5b-1ee1-4628-af51-515578d5277b",
   "metadata": {},
   "outputs": [],
   "source": [
    "day_of_week <- weekdays(orders$created_at)"
   ]
  },
  {
   "cell_type": "code",
   "execution_count": 21,
   "id": "2e08c58f-b5cb-4bb2-98e9-8f5dab2efe9b",
   "metadata": {},
   "outputs": [],
   "source": [
    "table_result <- table(day_of_week)"
   ]
  },
  {
   "cell_type": "code",
   "execution_count": 22,
   "id": "c2fc8ec1-ce0e-4bcc-8bb3-ae2e9de112a4",
   "metadata": {},
   "outputs": [
    {
     "data": {
      "text/plain": [
       "day_of_week\n",
       "   Friday    Monday  Saturday    Sunday  Thursday   Tuesday Wednesday \n",
       "    15906     19676     16238     18651     22210     22003     20619 "
      ]
     },
     "metadata": {},
     "output_type": "display_data"
    }
   ],
   "source": [
    "table_result"
   ]
  },
  {
   "cell_type": "code",
   "execution_count": 23,
   "id": "759adb06-8f28-4107-80f1-3f996467f4a2",
   "metadata": {},
   "outputs": [],
   "source": [
    "result_df <- as.data.frame(table_result)"
   ]
  },
  {
   "cell_type": "code",
   "execution_count": 26,
   "id": "5f34047d-3314-4ad7-8d9b-923b0f06fd17",
   "metadata": {},
   "outputs": [
    {
     "data": {
      "text/plain": [
       "  day_of_week Freq \n",
       "1 Friday      15906\n",
       "2 Monday      19676\n",
       "3 Saturday    16238\n",
       "4 Sunday      18651\n",
       "5 Thursday    22210\n",
       "6 Tuesday     22003"
      ]
     },
     "metadata": {},
     "output_type": "display_data"
    }
   ],
   "source": [
    "head(result_df)"
   ]
  },
  {
   "cell_type": "code",
   "execution_count": 10,
   "id": "b73dfde6-b042-4890-b061-6c1b87cc4932",
   "metadata": {},
   "outputs": [],
   "source": [
    "weekday_counts <- table(wday(orders$created_at))"
   ]
  },
  {
   "cell_type": "code",
   "execution_count": 11,
   "id": "f1ec40a0-29f8-4587-9afe-264a660382fe",
   "metadata": {},
   "outputs": [
    {
     "data": {
      "text/plain": [
       "\n",
       "    1     2     3     4     5     6     7 \n",
       "18651 19676 22003 20619 22210 15906 16238 "
      ]
     },
     "metadata": {},
     "output_type": "display_data"
    }
   ],
   "source": [
    "weekday_counts # 1-sunday, 2-monday, 3-tuesday, 4-friday, 5-thurday, 6-friday, 7-saturday"
   ]
  },
  {
   "cell_type": "code",
   "execution_count": 83,
   "id": "d6c13872-c0cc-4c6f-8beb-d5ab15160bb1",
   "metadata": {},
   "outputs": [
    {
     "data": {
      "image/png": "[encoded data removed]",
      "text/plain": [
       "plot without title"
      ]
     },
     "metadata": {
      "image/png": {
       "height": 420,
       "width": 420
      }
     },
     "output_type": "display_data"
    }
   ],
   "source": [
    "plot(weekday_counts)"
   ]
  },
  {
   "cell_type": "markdown",
   "id": "b456e57c-4a12-464b-999a-ef2df5af80c1",
   "metadata": {},
   "source": [
    "The data indicates varying counts for a certain variable across different days of the week. Specifically, Thursday has the highest count at 22,210, while Sunday has the lowest count at 18,651."
   ]
  },
  {
   "cell_type": "markdown",
   "id": "fc601975-35ed-4680-a4e1-0273ee3cc047",
   "metadata": {},
   "source": [
    "## Question 2"
   ]
  },
  {
   "cell_type": "code",
   "execution_count": 91,
   "id": "a16336a1-1ef0-41e8-bc7c-49387db27497",
   "metadata": {},
   "outputs": [
    {
     "data": {
      "text/plain": [
       "\n",
       " 113  105   79   84   78   83 \n",
       "7807 5562 5117 5001 4643 3684 "
      ]
     },
     "metadata": {},
     "output_type": "display_data"
    }
   ],
   "source": [
    "head(sort(table(orders$vendor_id), decreasing=TRUE)) "
   ]
  },
  {
   "cell_type": "code",
   "execution_count": 44,
   "id": "4594ae66-78df-4351-a17b-8cdc57e957a3",
   "metadata": {},
   "outputs": [
    {
     "data": {
      "text/plain": [
       "\n",
       " 113   78  105   83   79 \n",
       "5935 4643 4513 3639 3193 "
      ]
     },
     "metadata": {},
     "output_type": "display_data"
    }
   ],
   "source": [
    "head(sort(table(orders$vendor_id[year(orders$created_at) ==2019 ]), decreasing=TRUE), n=5)"
   ]
  },
  {
   "cell_type": "code",
   "execution_count": 45,
   "id": "d7d3bdee-46e3-41c9-b9fa-0af7e19b4880",
   "metadata": {},
   "outputs": [
    {
     "data": {
      "text/plain": [
       "\n",
       " 846   84   79  113  386 \n",
       "2556 2141 1924 1872 1160 "
      ]
     },
     "metadata": {},
     "output_type": "display_data"
    }
   ],
   "source": [
    "head(sort(table(orders$vendor_id[year(orders$created_at) ==2020 ]), decreasing=TRUE), n=5)"
   ]
  },
  {
   "cell_type": "code",
   "execution_count": 22,
   "id": "aebf9eee-007c-47cd-9999-be741b7a9656",
   "metadata": {},
   "outputs": [],
   "source": [
    "orders_2019 <- orders[year(orders$created_at) == 2019, ]"
   ]
  },
  {
   "cell_type": "code",
   "execution_count": 23,
   "id": "2d079001-93d3-44d3-a38d-aa38c908bbb8",
   "metadata": {},
   "outputs": [],
   "source": [
    "top_5_vendors <- head(sort(table(orders_2019$vendor_id), decreasing = TRUE), n = 5)"
   ]
  },
  {
   "cell_type": "code",
   "execution_count": 24,
   "id": "f3a61f51-16ad-48f8-acc9-48c2a19b9d39",
   "metadata": {},
   "outputs": [],
   "source": [
    "top_5_orders <- orders_2019[orders_2019$vendor_id %in% names(top_5_vendors), ]"
   ]
  },
  {
   "cell_type": "code",
   "execution_count": 40,
   "id": "6493ca6c-6a5a-4657-b2cc-a4b9720bf901",
   "metadata": {},
   "outputs": [],
   "source": [
    "average_per_vendor <- aggregate(grand_total ~ vendor_id, data = top_5_orders, FUN = mean)"
   ]
  },
  {
   "cell_type": "code",
   "execution_count": 41,
   "id": "b77e98e5-9f0b-4da8-bff4-2457ccf7ebce",
   "metadata": {},
   "outputs": [
    {
     "data": {
      "text/plain": [
       "  vendor_id grand_total\n",
       "1  78       12.93651   \n",
       "2  79       11.99903   \n",
       "3  83       17.87694   \n",
       "4 105       13.42989   \n",
       "5 113       14.47173   "
      ]
     },
     "metadata": {},
     "output_type": "display_data"
    }
   ],
   "source": [
    "average_per_vendor"
   ]
  },
  {
   "cell_type": "code",
   "execution_count": 47,
   "id": "5eba9e5c-97b3-4828-a073-c72addca5953",
   "metadata": {},
   "outputs": [],
   "source": [
    "orders_2020 <- orders[year(orders$created_at) == 2020, ]"
   ]
  },
  {
   "cell_type": "code",
   "execution_count": 48,
   "id": "dd2ef2ec-b819-4718-8d41-75484c36346a",
   "metadata": {},
   "outputs": [],
   "source": [
    "top_5_vendors_20 <- head(sort(table(orders_2020$vendor_id), decreasing = TRUE), n = 5)"
   ]
  },
  {
   "cell_type": "code",
   "execution_count": 58,
   "id": "d80f3522-03a0-42b0-9c4d-6591726c43bc",
   "metadata": {},
   "outputs": [
    {
     "data": {
      "text/plain": [
       "\n",
       " 846   84   79  113  386 \n",
       "2556 2141 1924 1872 1160 "
      ]
     },
     "metadata": {},
     "output_type": "display_data"
    }
   ],
   "source": [
    "top_5_vendors_20 "
   ]
  },
  {
   "cell_type": "code",
   "execution_count": 56,
   "id": "9cafdb04-354e-46cd-9f0b-ea8a64c6835c",
   "metadata": {},
   "outputs": [],
   "source": [
    "average_per_vendor_20 <- aggregate(grand_total ~ vendor_id, data = top_5_orders_20, FUN = mean)"
   ]
  },
  {
   "cell_type": "code",
   "execution_count": 57,
   "id": "675093c3-cef8-496c-af7e-df57e0ab6373",
   "metadata": {},
   "outputs": [
    {
     "data": {
      "text/plain": [
       "  vendor_id grand_total\n",
       "1  79       14.05936   \n",
       "2  84       17.77034   \n",
       "3 113       15.21175   \n",
       "4 386       12.39578   \n",
       "5 846       11.92680   "
      ]
     },
     "metadata": {},
     "output_type": "display_data"
    }
   ],
   "source": [
    "average_per_vendor_20"
   ]
  },
  {
   "cell_type": "markdown",
   "id": "56aa35b7-b6b2-4114-ae67-9934ffb2704f",
   "metadata": {},
   "source": [
    "Vendors 846 and 113, as well as Vendors 84 and 386, seem to have similar total amount patterns, suggesting possible correlations or shared market dynamics.\n",
    "Vendors 79 and 113 have relatively lower total amounts, with Vendor 79 showing more fluctuation.\n",
    "There is a general decreasing trend in total amounts for all vendors over the years, indicating a potential overall shift in the market or changes in business conditions."
   ]
  },
  {
   "cell_type": "markdown",
   "id": "8e586edd-ff26-4ce2-8f6b-2424b26f2929",
   "metadata": {},
   "source": [
    "## Question 3"
   ]
  },
  {
   "cell_type": "code",
   "execution_count": 28,
   "id": "bbe0f40d-9655-4653-9ca8-886bdb61cb91",
   "metadata": {},
   "outputs": [],
   "source": [
    "orders$created_at <- as.POSIXct(orders$created_at, format = \"%Y-%m-%d %H:%M:%S\", tz = \"UTC\")"
   ]
  },
  {
   "cell_type": "code",
   "execution_count": 29,
   "id": "6d2125c9-0f0e-4176-8e24-c77714c81dc9",
   "metadata": {},
   "outputs": [],
   "source": [
    "order_hours <- format(orders$created_at, \"%H\")"
   ]
  },
  {
   "cell_type": "code",
   "execution_count": 30,
   "id": "14becf89-a2ed-48d9-836b-cc17e8931596",
   "metadata": {},
   "outputs": [],
   "source": [
    "orders_after_5pm <- sum(as.numeric(order_hours) >= 17)"
   ]
  },
  {
   "cell_type": "code",
   "execution_count": 31,
   "id": "770a5284-7290-4cdb-93a8-98f45a07db14",
   "metadata": {},
   "outputs": [
    {
     "data": {
      "text/plain": [
       "[1] 74782"
      ]
     },
     "metadata": {},
     "output_type": "display_data"
    }
   ],
   "source": [
    "orders_after_5pm"
   ]
  },
  {
   "cell_type": "code",
   "execution_count": 32,
   "id": "47502a8c-f01d-4f90-80ea-7c5808b2a664",
   "metadata": {},
   "outputs": [],
   "source": [
    "orders_before_5pm <- sum(as.numeric(order_hours) < 17)"
   ]
  },
  {
   "cell_type": "code",
   "execution_count": 33,
   "id": "6ef7ca7e-db5e-4fa1-bf42-50234f0cb815",
   "metadata": {},
   "outputs": [
    {
     "data": {
      "text/plain": [
       "[1] 60521"
      ]
     },
     "metadata": {},
     "output_type": "display_data"
    }
   ],
   "source": [
    "orders_before_5pm"
   ]
  },
  {
   "cell_type": "code",
   "execution_count": 34,
   "id": "6e01cec9-f083-4122-8ffb-4a4a92d764ff",
   "metadata": {},
   "outputs": [],
   "source": [
    "library(ggplot2)"
   ]
  },
  {
   "cell_type": "code",
   "execution_count": 38,
   "id": "e1a5980a-8153-4b0d-836b-f64cb699724a",
   "metadata": {},
   "outputs": [
    {
     "name": "stderr",
     "output_type": "stream",
     "text": [
      "ERROR while rich displaying an object: \u001b[1m\u001b[33mError\u001b[39m in `geom_col()`:\u001b[22m\n",
      "\u001b[1m\u001b[22m\u001b[33m!\u001b[39m Problem while computing aesthetics.\n",
      "\u001b[36mi\u001b[39m Error occurred in the 1st layer.\n",
      "\u001b[1mCaused by error:\u001b[22m\n",
      "\u001b[33m!\u001b[39m object 'resuly_df' not found\n",
      "\n",
      "Traceback:\n",
      "1. tryCatch(withCallingHandlers({\n",
      " .     if (!mime %in% names(repr::mime2repr)) \n",
      " .         stop(\"No repr_* for mimetype \", mime, \" in repr::mime2repr\")\n",
      " .     rpr <- repr::mime2repr[[mime]](obj)\n",
      " .     if (is.null(rpr)) \n",
      " .         return(NULL)\n",
      " .     prepare_content(is.raw(rpr), rpr)\n",
      " . }, error = error_handler), error = outer_handler)\n",
      "2. tryCatchList(expr, classes, parentenv, handlers)\n",
      "3. tryCatchOne(expr, names, parentenv, handlers[[1L]])\n",
      "4. doTryCatch(return(expr), name, parentenv, handler)\n",
      "5. withCallingHandlers({\n",
      " .     if (!mime %in% names(repr::mime2repr)) \n",
      " .         stop(\"No repr_* for mimetype \", mime, \" in repr::mime2repr\")\n",
      " .     rpr <- repr::mime2repr[[mime]](obj)\n",
      " .     if (is.null(rpr)) \n",
      " .         return(NULL)\n",
      " .     prepare_content(is.raw(rpr), rpr)\n",
      " . }, error = error_handler)\n",
      "6. repr::mime2repr[[mime]](obj)\n",
      "7. repr_text.default(obj)\n",
      "8. paste(capture.output(print(obj)), collapse = \"\\n\")\n",
      "9. capture.output(print(obj))\n",
      "10. withVisible(...elt(i))\n",
      "11. print(obj)\n",
      "12. print.ggplot(obj)\n",
      "13. ggplot_build(x)\n",
      "14. ggplot_build.ggplot(x)\n",
      "15. by_layer(function(l, d) l$compute_aesthetics(d, plot), layers, \n",
      "  .     data, \"computing aesthetics\")\n",
      "16. try_fetch(for (i in seq_along(data)) {\n",
      "  .     out[[i]] <- f(l = layers[[i]], d = data[[i]])\n",
      "  . }, error = function(cnd) {\n",
      "  .     cli::cli_abort(c(\"Problem while {step}.\", i = \"Error occurred in the {ordinal(i)} layer.\"), \n",
      "  .         call = layers[[i]]$constructor, parent = cnd)\n",
      "  . })\n",
      "17. tryCatch(withCallingHandlers(expr, condition = function(cnd) {\n",
      "  .     {\n",
      "  .         .__handler_frame__. <- TRUE\n",
      "  .         .__setup_frame__. <- frame\n",
      "  .         if (inherits(cnd, \"message\")) {\n",
      "  .             except <- c(\"warning\", \"error\")\n",
      "  .         }\n",
      "  .         else if (inherits(cnd, \"warning\")) {\n",
      "  .             except <- \"error\"\n",
      "  .         }\n",
      "  .         else {\n",
      "  .             except <- \"\"\n",
      "  .         }\n",
      "  .     }\n",
      "  .     while (!is_null(cnd)) {\n",
      "  .         if (inherits(cnd, \"error\")) {\n",
      "  .             out <- handlers[[1L]](cnd)\n",
      "  .             if (!inherits(out, \"rlang_zap\")) \n",
      "  .                 throw(out)\n",
      "  .         }\n",
      "  .         inherit <- .subset2(.subset2(cnd, \"rlang\"), \"inherit\")\n",
      "  .         if (is_false(inherit)) {\n",
      "  .             return()\n",
      "  .         }\n",
      "  .         cnd <- .subset2(cnd, \"parent\")\n",
      "  .     }\n",
      "  . }), stackOverflowError = handlers[[1L]])\n",
      "18. tryCatchList(expr, classes, parentenv, handlers)\n",
      "19. tryCatchOne(expr, names, parentenv, handlers[[1L]])\n",
      "20. doTryCatch(return(expr), name, parentenv, handler)\n",
      "21. withCallingHandlers(expr, condition = function(cnd) {\n",
      "  .     {\n",
      "  .         .__handler_frame__. <- TRUE\n",
      "  .         .__setup_frame__. <- frame\n",
      "  .         if (inherits(cnd, \"message\")) {\n",
      "  .             except <- c(\"warning\", \"error\")\n",
      "  .         }\n",
      "  .         else if (inherits(cnd, \"warning\")) {\n",
      "  .             except <- \"error\"\n",
      "  .         }\n",
      "  .         else {\n",
      "  .             except <- \"\"\n",
      "  .         }\n",
      "  .     }\n",
      "  .     while (!is_null(cnd)) {\n",
      "  .         if (inherits(cnd, \"error\")) {\n",
      "  .             out <- handlers[[1L]](cnd)\n",
      "  .             if (!inherits(out, \"rlang_zap\")) \n",
      "  .                 throw(out)\n",
      "  .         }\n",
      "  .         inherit <- .subset2(.subset2(cnd, \"rlang\"), \"inherit\")\n",
      "  .         if (is_false(inherit)) {\n",
      "  .             return()\n",
      "  .         }\n",
      "  .         cnd <- .subset2(cnd, \"parent\")\n",
      "  .     }\n",
      "  . })\n",
      "22. f(l = layers[[i]], d = data[[i]])\n",
      "23. l$compute_aesthetics(d, plot)\n",
      "24. compute_aesthetics(..., self = self)\n",
      "25. scales_add_defaults(plot$scales, data, aesthetics, plot$plot_env)\n",
      "26. lapply(aesthetics[new_aesthetics], eval_tidy, data = data)\n",
      "27. FUN(X[[i]], ...)\n",
      "28. .handleSimpleError(function (cnd) \n",
      "  . {\n",
      "  .     {\n",
      "  .         .__handler_frame__. <- TRUE\n",
      "  .         .__setup_frame__. <- frame\n",
      "  .         if (inherits(cnd, \"message\")) {\n",
      "  .             except <- c(\"warning\", \"error\")\n",
      "  .         }\n",
      "  .         else if (inherits(cnd, \"warning\")) {\n",
      "  .             except <- \"error\"\n",
      "  .         }\n",
      "  .         else {\n",
      "  .             except <- \"\"\n",
      "  .         }\n",
      "  .     }\n",
      "  .     while (!is_null(cnd)) {\n",
      "  .         if (inherits(cnd, \"error\")) {\n",
      "  .             out <- handlers[[1L]](cnd)\n",
      "  .             if (!inherits(out, \"rlang_zap\")) \n",
      "  .                 throw(out)\n",
      "  .         }\n",
      "  .         inherit <- .subset2(.subset2(cnd, \"rlang\"), \"inherit\")\n",
      "  .         if (is_false(inherit)) {\n",
      "  .             return()\n",
      "  .         }\n",
      "  .         cnd <- .subset2(cnd, \"parent\")\n",
      "  .     }\n",
      "  . }, \"object 'resuly_df' not found\", base::quote(NULL))\n",
      "29. h(simpleError(msg, call))\n",
      "30. handlers[[1L]](cnd)\n",
      "31. cli::cli_abort(c(\"Problem while {step}.\", i = \"Error occurred in the {ordinal(i)} layer.\"), \n",
      "  .     call = layers[[i]]$constructor, parent = cnd)\n",
      "32. rlang::abort(message, ..., call = call, use_cli_format = TRUE, \n",
      "  .     .frame = .frame)\n",
      "33. signal_abort(cnd, .file)\n"
     ]
    }
   ],
   "source": [
    "ggplot(orders, aes(x =resuly_df$week_of_day , y = orders_before_5pm, fill = orders_after_5pm)) + geom_col(position = \"dodge\") + labs(title = \"Number of Orders Before and After 5 pm by Day of the Week\",\n",
    "       x = \"Day of the Week\",\n",
    "       y = \"Number of Orders\") +\n",
    "  scale_fill_manual(values = c(\"before_5pm\" = \"blue\", \"after_5pm\" = \"red\"), name = \"Order Time\", labels = c(\"Before 5 pm\", \"After 5 pm\")) + theme_minimal()"
   ]
  },
  {
   "cell_type": "markdown",
   "id": "da22f29c-d245-4d2b-9fc1-ca14cb6087d9",
   "metadata": {},
   "source": [
    "## Question 4"
   ]
  },
  {
   "cell_type": "code",
   "execution_count": 4,
   "id": "30a019d1-9820-4f75-b996-40c6c45c1f7b",
   "metadata": {},
   "outputs": [
    {
     "name": "stderr",
     "output_type": "stream",
     "text": [
      "Warning message in xy.coords(x, y, xlabel, ylabel, log):\n",
      "\"NAs introduced by coercion\"\n"
     ]
    },
    {
     "data": {
      "image/png": "[encoded data removed]",
      "text/plain": [
       "Plot with title \"Scatter Plot of Customer ID vs. Grand Total\""
      ]
     },
     "metadata": {
      "image/png": {
       "height": 420,
       "width": 420
      }
     },
     "output_type": "display_data"
    }
   ],
   "source": [
    "plot(orders$customer_id, orders$grand_total, \n",
    "     main = \"Scatter Plot of Customer ID vs. Grand Total\",\n",
    "     xlab = \"Customer ID\",\n",
    "     ylab = \"Grand Total\")"
   ]
  },
  {
   "cell_type": "markdown",
   "id": "aa9fbe7a-e366-46df-bf29-b5d1b6b64a37",
   "metadata": {},
   "source": []
  },
  {
   "cell_type": "code",
   "execution_count": 8,
   "id": "fc778215-a76b-4806-b823-7a02b5d12fa1",
   "metadata": {},
   "outputs": [
    {
     "name": "stderr",
     "output_type": "stream",
     "text": [
      "Warning message in xy.coords(x, y, xlabel, ylabel, log):\n",
      "\"NAs introduced by coercion\"\n"
     ]
    },
    {
     "data": {
      "image/png": "[encoded data removed]",
      "text/plain": [
       "Plot with title \"Scatter Plot of Customer ID vs. Item Count\""
      ]
     },
     "metadata": {
      "image/png": {
       "height": 420,
       "width": 420
      }
     },
     "output_type": "display_data"
    }
   ],
   "source": [
    "plot(orders$customer_id, orders$item_count, main = \"Scatter Plot of Customer ID vs. Item Count\",\n",
    "     xlab = \"Customer ID\", ylab = \"Item Count\")"
   ]
  },
  {
   "cell_type": "markdown",
   "id": "46ceadee-fbdd-496c-8708-5cd7470a87da",
   "metadata": {},
   "source": [
    "The plot visualizes the relationship between customer IDs and the number of items in an order, with each point representing a unique customer's order. Scatter plots are chosen for this comparison to reveal potential patterns or trends in item counts across different customer IDs, allowing for a quick assessment of the data's distribution and any potential outliers or clusters."
   ]
  },
  {
   "cell_type": "code",
   "execution_count": 11,
   "id": "7d732281-6f1d-44cf-9b2c-a4b69e4a143c",
   "metadata": {},
   "outputs": [
    {
     "name": "stderr",
     "output_type": "stream",
     "text": [
      "Warning message in xy.coords(x, y, xlabel, ylabel, log):\n",
      "\"NAs introduced by coercion\"\n"
     ]
    },
    {
     "data": {
      "image/png": "[encoded data removed]",
      "text/plain": [
       "Plot with title \"Scatter Plot of Customer ID and Payment Mode\""
      ]
     },
     "metadata": {
      "image/png": {
       "height": 420,
       "width": 420
      }
     },
     "output_type": "display_data"
    }
   ],
   "source": [
    "plot(orders$customer_id, orders$payment_mode,\n",
    "     main = \"Scatter Plot of Customer ID and Payment Mode\",\n",
    "     xlab = \"Customer ID\", ylab = \"Payment Mode\",\n",
    "     col = \"blue\")"
   ]
  },
  {
   "cell_type": "markdown",
   "id": "0d552245-b4d6-474a-9cc9-fa7b8e674d55",
   "metadata": {},
   "source": [
    "a scatter plot might not be the most appropriate choice for visualizing the relationship between customer_id and payment_mode since payment_mode is likely a categorical variable. A bar plot or a stacked bar plot would be more suitable for displaying the distribution of payment modes among different customer IDs, allowing for clearer interpretation of the data."
   ]
  },
  {
   "cell_type": "markdown",
   "id": "f76442d6-d02e-4f26-b9d6-c3183e1d6929",
   "metadata": {},
   "source": [
    "## Pledge\n",
    "\n",
    "By submitting this work I hereby pledge that this is my own, personal work. I've acknowledged in the designated place at the top of this file all sources that I used to complete said work, including but not limited to: online resources, books, and electronic communications. I've noted all collaboration with fellow students and/or TA's. I did not copy or plagiarize another's work.\n",
    "\n",
    "> As a Boilermaker pursuing academic excellence, I pledge to be honest and true in all that I do. Accountable together – We are Purdue."
   ]
  }
 ],
 "metadata": {
  "kernelspec": {
   "display_name": "seminar-r",
   "language": "R",
   "name": "seminar-r"
  },
  "language_info": {
   "codemirror_mode": "r",
   "file_extension": ".r",
   "mimetype": "text/x-r-source",
   "name": "R",
   "pygments_lexer": "r",
   "version": "4.3.1"
  }
 },
 "nbformat": 4,
 "nbformat_minor": 5
}
