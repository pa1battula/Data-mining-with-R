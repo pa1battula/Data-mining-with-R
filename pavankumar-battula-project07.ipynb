{
 "cells": [
  {
   "cell_type": "markdown",
   "id": "be02a957-7133-4d02-818e-fedeb3cecb05",
   "metadata": {},
   "source": [
    "# Project 07 -- [Pavan Kumar] [battula]"
   ]
  },
  {
   "cell_type": "markdown",
   "id": "a1228853-dd19-4ab2-89e0-0394d7d72de3",
   "metadata": {},
   "source": [
    "**TA Help:** N/A\n",
    "    \n",
    "**Collaboration:** N/A\n",
    "    "
   ]
  },
  {
   "cell_type": "markdown",
   "id": "6180e742-8e39-4698-98ff-5b00c8cf8ea0",
   "metadata": {},
   "source": [
    "## Question 1"
   ]
  },
  {
   "cell_type": "code",
   "execution_count": 12,
   "id": "74fd630e-c796-4bc5-b313-7c3f78f63b4c",
   "metadata": {},
   "outputs": [],
   "source": [
    "options(jupyter.rich_display=F)"
   ]
  },
  {
   "cell_type": "code",
   "execution_count": 13,
   "id": "ffa9554c-2588-443e-9e35-a4d0c6352cc7",
   "metadata": {},
   "outputs": [],
   "source": [
    "library(data.table)"
   ]
  },
  {
   "cell_type": "code",
   "execution_count": 14,
   "id": "001e496f-b472-4598-9e30-ab0756cfadc7",
   "metadata": {},
   "outputs": [],
   "source": [
    "products <- fread(\"/anvil/projects/tdm/data/icecream/combined/products.csv\")"
   ]
  },
  {
   "cell_type": "code",
   "execution_count": 15,
   "id": "f73eb7c5-4158-4a09-9a87-383c07bad29c",
   "metadata": {},
   "outputs": [],
   "source": [
    "reviews <- fread(\"/anvil/projects/tdm/data/icecream/combined/reviews.csv\")"
   ]
  },
  {
   "cell_type": "code",
   "execution_count": 16,
   "id": "3efedee5-3339-49ab-aeb4-20780e33db66",
   "metadata": {},
   "outputs": [],
   "source": [
    "titles <- fread(\"/anvil/projects/tdm/data/movies_and_tv/titles.csv\")"
   ]
  },
  {
   "cell_type": "code",
   "execution_count": 17,
   "id": "46b1efe3-b789-4173-8154-c39f5664f6ba",
   "metadata": {},
   "outputs": [],
   "source": [
    "episodes <- fread(\"/anvil/projects/tdm/data/movies_and_tv/episodes.csv\")"
   ]
  },
  {
   "cell_type": "code",
   "execution_count": 19,
   "id": "fcc9e7d8-ded3-421f-b270-5984e3356b4c",
   "metadata": {},
   "outputs": [],
   "source": [
    "ratings <- fread(\"/anvil/projects/tdm/data/movies_and_tv/ratings.csv\")"
   ]
  },
  {
   "cell_type": "code",
   "execution_count": 20,
   "id": "5fe608da-9064-4e4e-979d-d492bc3c795c",
   "metadata": {},
   "outputs": [
    {
     "data": {
      "text/plain": [
       "[1] \"CREAM, SKIM MILK, LIQUID SUGAR (SUGAR, WATER), WATER, BROWN SUGAR, SUGAR, MILK, WHEAT FLOUR, EGG YOLKS, CORN SYRUP, EGGS, BUTTER (CREAM, SALT), BUTTEROIL, PECTIN, SEA SALT, SOYBEAN OIL, VANILLA EXTRACT, GUAR GUM, SOY LECITHIN, BAKING POWDER (SODIUM ACID PYROPHOSPHATE, SODIUM BICARBONATE, CORN STARCH, MONOCALCIUM PHOSPHATE), BAKING SODA, SALT, CARRAGEENAN, LACTASE\""
      ]
     },
     "metadata": {},
     "output_type": "display_data"
    }
   ],
   "source": [
    "head(products$ingredients, n=1)"
   ]
  },
  {
   "cell_type": "code",
   "execution_count": 11,
   "id": "cd7f016c-9111-4e8c-98e8-4e396444c05b",
   "metadata": {},
   "outputs": [],
   "source": [
    "newDF <- products[grepl(\"GUAR GUM\", products$ingredients), ]"
   ]
  },
  {
   "cell_type": "code",
   "execution_count": 14,
   "id": "2fdaa015-fe6f-48a6-aa87-c06e1fe3ab3a",
   "metadata": {},
   "outputs": [
    {
     "data": {
      "text/plain": [
       "[1] 85  8"
      ]
     },
     "metadata": {},
     "output_type": "display_data"
    }
   ],
   "source": [
    "dim(newDF)"
   ]
  },
  {
   "cell_type": "code",
   "execution_count": 10,
   "id": "cc350302-c469-414b-931a-3d1ec120856f",
   "metadata": {},
   "outputs": [],
   "source": [
    "sortedDF <- newDF[order(-newDF$rating), ]"
   ]
  },
  {
   "cell_type": "code",
   "execution_count": 11,
   "id": "eda9e34e-80bf-487e-a535-fcbed7c477d2",
   "metadata": {},
   "outputs": [],
   "source": [
    " ratings_order<- sortedDF$rating"
   ]
  },
  {
   "cell_type": "code",
   "execution_count": 12,
   "id": "72ee0b34-b245-473f-baa2-553aeed0abc2",
   "metadata": {},
   "outputs": [
    {
     "data": {
      "text/plain": [
       "[1] 5.0 5.0 4.9 4.9 4.9 4.9"
      ]
     },
     "metadata": {},
     "output_type": "display_data"
    }
   ],
   "source": [
    "head(ratings_order)"
   ]
  },
  {
   "cell_type": "code",
   "execution_count": 30,
   "id": "209325ac-cdd3-4436-aabd-d89543c82008",
   "metadata": {},
   "outputs": [
    {
     "data": {
      "text/plain": [
       "[1] \"CREAM, SKIM MILK, LIQUID SUGAR (SUGAR, WATER), WATER, SUGAR, PEANUTS, COCONUT OIL, BANANA PUREE, COCOA (PROCESSED WITH ALKALI), EGG YOLKS, MILK, NONFAT MILK, GUAR GUM, NATURAL FLAVORS, LEMON JUICE CONCENTRATE, SALT, COCOA, SOY LECITHIN, VANILLA EXTRACT, CARRAGEENAN\"                                                                                                                                                            \n",
       "[2] \"CREAM, SKIM MILK, LIQUID SUGAR (SUGAR, WATER), WATER, SUGAR, WHEAT FLOUR, CANOLA OIL, EGG YOLKS, COCOA PROCESSED WITH ALKALI, COCONUT OIL, SUNFLOWER OIL, COCOA, BUTTEROIL, SALT, BAKING SODA, TAPIOCA STARCH, NATURAL FLAVORS, GUAR GUM, SOY LECITHIN, VANILLA EXTRACT, NATURAL FLAVOR, CARRAGEENAN\"                                                                                                                                 \n",
       "[3] \"CREAM, LIQUID SUGAR (SUGAR, WATER), SKIM MILK, WATER, SUGAR, WHEAT FLOUR, PEANUTS, COCOA (PROCESSED WITH ALKALI), BROWN SUGAR, EGG YOLKS, COCOA POWDER, PEANUT OIL, SOYBEAN OIL, BUTTER (CREAM, SALT), INVERT CANE SUGAR, SALT, CHOCOLATE LIQUOR, EGGS, TAPIOCA FLOUR, PEANUT FLOUR, PEANUT EXTRACT, VANILLA EXTRACT, EGG WHITES, GUAR GUM, COCOA BUTTER, NATURAL FLAVOR, CARRAGEENAN, SOY LECITHIN, BAKING SODA, MALTED BARLEY FLOUR\"\n",
       "[4] \"CREAM, SKIM MILK, LIQUID SUGAR (SUGAR, WATER), WATER, SUGAR, COCONUT OIL, COFFEE EXTRACT, EGG YOLKS, COCOA (PROCESSED WITH ALKALI), COFFEE, COCOA POWDER, SOY LECITHIN, GUAR GUM, VANILLA EXTRACT, CARRAGEENAN\"                                                                                                                                                                                                                       \n",
       "[5] \"CREAM, LIQUID SUGAR (SUGAR, WATER), SKIM MILK, WATER, COCOA (PROCESSED WITH ALKALI), SUGAR, COCONUT OIL, WALNUTS, PECANS, ROASTED ALMONDS (ALMONDS, PEANUT OIL), DRIED CANE SYRUP, EGG YOLKS, COCOA, MILK FAT, SALT, SOY LECITHIN, VANILLA EXTRACT, GUAR GUM, BUTTEROIL, PEANUT OIL, BUTTER (CREAM), NATURAL FLAVORS, CARRAGEENAN\"                                                                                                    \n",
       "[6] \"CREAM, LIQUID SUGAR (SUGAR, WATER), SKIM MILK, WATER, PEANUTS, SUGAR, COCOA (PROCESSED WITH ALKALI), CANOLA OIL, PEANUT OIL, WHEAT FLOUR, COCOA, COCONUT OIL, EGG YOLKS, SALT, TAPIOCA STARCH, GUAR GUM, NATURAL FLAVORS, SOY LECITHIN, BAKING SODA, CARRAGEENAN\"                                                                                                                                                                     "
      ]
     },
     "metadata": {},
     "output_type": "display_data"
    }
   ],
   "source": [
    "head(sortedDF$ingredients)"
   ]
  },
  {
   "cell_type": "markdown",
   "id": "fc601975-35ed-4680-a4e1-0273ee3cc047",
   "metadata": {},
   "source": [
    "## Question 2"
   ]
  },
  {
   "cell_type": "code",
   "execution_count": 33,
   "id": "a16336a1-1ef0-41e8-bc7c-49387db27497",
   "metadata": {},
   "outputs": [],
   "source": [
    "merged_data <- merge(products, reviews, by = c(\"brand\", \"key\"))"
   ]
  },
  {
   "cell_type": "code",
   "execution_count": 34,
   "id": "7ba1d896-bd5a-4dae-8f21-218bf3e7e1e9",
   "metadata": {},
   "outputs": [
    {
     "data": {
      "text/plain": [
       "  brand key  name               \n",
       "1 bj    0_bj Salted Caramel Core\n",
       "2 bj    0_bj Salted Caramel Core\n",
       "3 bj    0_bj Salted Caramel Core\n",
       "4 bj    0_bj Salted Caramel Core\n",
       "5 bj    0_bj Salted Caramel Core\n",
       "6 bj    0_bj Salted Caramel Core\n",
       "  subhead                                                           \n",
       "1 Sweet Cream Ice Cream with Blonde Brownies & a Salted Caramel Core\n",
       "2 Sweet Cream Ice Cream with Blonde Brownies & a Salted Caramel Core\n",
       "3 Sweet Cream Ice Cream with Blonde Brownies & a Salted Caramel Core\n",
       "4 Sweet Cream Ice Cream with Blonde Brownies & a Salted Caramel Core\n",
       "5 Sweet Cream Ice Cream with Blonde Brownies & a Salted Caramel Core\n",
       "6 Sweet Cream Ice Cream with Blonde Brownies & a Salted Caramel Core\n",
       "  description                                                                                                                                                                                                                                   \n",
       "1 Find your way to the ultimate ice cream experience with our Cores. Whether your primal urges lead you to the center of salted caramel or directly to the blonde brownies, you\\342\\200\\231ll be in total control of your own ice cream destiny.\n",
       "2 Find your way to the ultimate ice cream experience with our Cores. Whether your primal urges lead you to the center of salted caramel or directly to the blonde brownies, you\\342\\200\\231ll be in total control of your own ice cream destiny.\n",
       "3 Find your way to the ultimate ice cream experience with our Cores. Whether your primal urges lead you to the center of salted caramel or directly to the blonde brownies, you\\342\\200\\231ll be in total control of your own ice cream destiny.\n",
       "4 Find your way to the ultimate ice cream experience with our Cores. Whether your primal urges lead you to the center of salted caramel or directly to the blonde brownies, you\\342\\200\\231ll be in total control of your own ice cream destiny.\n",
       "5 Find your way to the ultimate ice cream experience with our Cores. Whether your primal urges lead you to the center of salted caramel or directly to the blonde brownies, you\\342\\200\\231ll be in total control of your own ice cream destiny.\n",
       "6 Find your way to the ultimate ice cream experience with our Cores. Whether your primal urges lead you to the center of salted caramel or directly to the blonde brownies, you\\342\\200\\231ll be in total control of your own ice cream destiny.\n",
       "  rating rating_count\n",
       "1 3.7    208         \n",
       "2 3.7    208         \n",
       "3 3.7    208         \n",
       "4 3.7    208         \n",
       "5 3.7    208         \n",
       "6 3.7    208         \n",
       "  ingredients.x                                                                                                                                                                                                                                                                                                                                                                \n",
       "1 CREAM, SKIM MILK, LIQUID SUGAR (SUGAR, WATER), WATER, BROWN SUGAR, SUGAR, MILK, WHEAT FLOUR, EGG YOLKS, CORN SYRUP, EGGS, BUTTER (CREAM, SALT), BUTTEROIL, PECTIN, SEA SALT, SOYBEAN OIL, VANILLA EXTRACT, GUAR GUM, SOY LECITHIN, BAKING POWDER (SODIUM ACID PYROPHOSPHATE, SODIUM BICARBONATE, CORN STARCH, MONOCALCIUM PHOSPHATE), BAKING SODA, SALT, CARRAGEENAN, LACTASE\n",
       "2 CREAM, SKIM MILK, LIQUID SUGAR (SUGAR, WATER), WATER, BROWN SUGAR, SUGAR, MILK, WHEAT FLOUR, EGG YOLKS, CORN SYRUP, EGGS, BUTTER (CREAM, SALT), BUTTEROIL, PECTIN, SEA SALT, SOYBEAN OIL, VANILLA EXTRACT, GUAR GUM, SOY LECITHIN, BAKING POWDER (SODIUM ACID PYROPHOSPHATE, SODIUM BICARBONATE, CORN STARCH, MONOCALCIUM PHOSPHATE), BAKING SODA, SALT, CARRAGEENAN, LACTASE\n",
       "3 CREAM, SKIM MILK, LIQUID SUGAR (SUGAR, WATER), WATER, BROWN SUGAR, SUGAR, MILK, WHEAT FLOUR, EGG YOLKS, CORN SYRUP, EGGS, BUTTER (CREAM, SALT), BUTTEROIL, PECTIN, SEA SALT, SOYBEAN OIL, VANILLA EXTRACT, GUAR GUM, SOY LECITHIN, BAKING POWDER (SODIUM ACID PYROPHOSPHATE, SODIUM BICARBONATE, CORN STARCH, MONOCALCIUM PHOSPHATE), BAKING SODA, SALT, CARRAGEENAN, LACTASE\n",
       "4 CREAM, SKIM MILK, LIQUID SUGAR (SUGAR, WATER), WATER, BROWN SUGAR, SUGAR, MILK, WHEAT FLOUR, EGG YOLKS, CORN SYRUP, EGGS, BUTTER (CREAM, SALT), BUTTEROIL, PECTIN, SEA SALT, SOYBEAN OIL, VANILLA EXTRACT, GUAR GUM, SOY LECITHIN, BAKING POWDER (SODIUM ACID PYROPHOSPHATE, SODIUM BICARBONATE, CORN STARCH, MONOCALCIUM PHOSPHATE), BAKING SODA, SALT, CARRAGEENAN, LACTASE\n",
       "5 CREAM, SKIM MILK, LIQUID SUGAR (SUGAR, WATER), WATER, BROWN SUGAR, SUGAR, MILK, WHEAT FLOUR, EGG YOLKS, CORN SYRUP, EGGS, BUTTER (CREAM, SALT), BUTTEROIL, PECTIN, SEA SALT, SOYBEAN OIL, VANILLA EXTRACT, GUAR GUM, SOY LECITHIN, BAKING POWDER (SODIUM ACID PYROPHOSPHATE, SODIUM BICARBONATE, CORN STARCH, MONOCALCIUM PHOSPHATE), BAKING SODA, SALT, CARRAGEENAN, LACTASE\n",
       "6 CREAM, SKIM MILK, LIQUID SUGAR (SUGAR, WATER), WATER, BROWN SUGAR, SUGAR, MILK, WHEAT FLOUR, EGG YOLKS, CORN SYRUP, EGGS, BUTTER (CREAM, SALT), BUTTEROIL, PECTIN, SEA SALT, SOYBEAN OIL, VANILLA EXTRACT, GUAR GUM, SOY LECITHIN, BAKING POWDER (SODIUM ACID PYROPHOSPHATE, SODIUM BICARBONATE, CORN STARCH, MONOCALCIUM PHOSPHATE), BAKING SODA, SALT, CARRAGEENAN, LACTASE\n",
       "  author         date       stars title                                  \n",
       "1 Ilovebennjerry 2017-04-15 3     Not enough brownies!                   \n",
       "2 Sweettooth909  2020-01-05 5     I\\342\\200\\231m OBSESSED with this pint!\n",
       "3 LaTanga71      2018-04-26 3     My favorite...More Caramel Please      \n",
       "4 chicago220     2018-01-14 5     Obsessed!!!                            \n",
       "5 Kassidyk       2020-07-24 1     Worst Ice Cream Ever!                  \n",
       "6 Nikiera        2020-07-23 2     Way Too Salty                          \n",
       "  helpful_yes helpful_no\n",
       "1 10          3         \n",
       "2  3          0         \n",
       "3  5          2         \n",
       "4 24          1         \n",
       "5  1          5         \n",
       "6  3          1         \n",
       "  text                                                                                                                                                                                                                                                                                                                                                                                                                                                                                                                                                                                                                                                                                                                                         \n",
       "1 Super good, don't get me wrong. But I came for the caramel and brownies, not the sweet cream. The packaging made it seem like brownies were packed and bountiful *crying frowny emoji* I'd say the taste of this was amazing, but the ratio of brownie to sweet cream was disappointing. Liked it regardless but probably won't buy again simply because it didn't live up to its promising package. I'll find another one that has a better ratio and wayyy more yummy chewy brownies.\\nOverall, good flavor, texture, idea, and brownies. Not so great caramel/sweet cream/ brownie RATIO. Just add more brownies. Please.                                                                                                                 \n",
       "2 I decided to try it out although I\\342\\200\\231m not a huge caramel fan, and the first buy was ok, didn\\342\\200\\231t like the caramel too much and for some reason that specific pint barely had any brownies! Like there were some on top but from the middle to the bottom? Zilch. Nada. Nothing! It was disappointing. But for some reason, I bought it again and I really do believe it was just that point bcuz the second one was glorious!! I had a big brownie chunk in EVERY bite. Plus the caramel didn\\342\\200\\231t bother me as much and I took a liking to it. Conclusion: I\\342\\200\\231m on my fifth pint, of the week and I\\342\\200\\231m going back to get my daily pint cus I\\342\\200\\231m kinda sick and need some happiness.\n",
       "3 My caramel core begins to disappear about half way through. I only buy this for the caramel core. The first time I purchased this I was not even aware that there were blonde bits in there. You had me a salted caramel core, well this is the fourth pint that I have purchased and the caramel is plentiful at the top then it begins to get sparse about half way down at 3/4s of the way down its gone. It works out in my husbands favor because he doesn't care for the caramel so he gets to finish my pint while having a full pint of his choice. Please please please, its called salted caramel core for a reason. Let the caramel flow through the core. P.S. You could put a little extra in there, I totally would not mind.  \n",
       "4 Why are people complaining about the blonde brownies? If you don\\342\\200\\231t like blonde brownies, get ice cream with fudge brownies! I LOVE the blonde brownies and cannot get enough of them. This ice cream is by far my favorite. I have driven to multiple stores to try and find it... and when I do, I stock up! I\\342\\200\\231ve tried other flavors when I can\\342\\200\\231t find this one, and none of them even come close to making me as happy as this does! I\\342\\200\\231d say sometimes the caramel to brownie ratio is a little off at times (more brownies please!), but I\\342\\200\\231ll still always enjoy it nevertheless!                                                                                                 \n",
       "5 This ice cream is worst ice cream I\\342\\200\\231ve ever tasted. I was beyond excited when I picked it up today and couldn\\342\\200\\231t wait to get home and try it. First the sweet cream ice cream has no flavour. But that\\342\\200\\231s fine I could get past that, but the salted caramel core is what\\342\\200\\231s really wrong. It\\342\\200\\231s disgusting and so salty it\\342\\200\\231s actually inedible. I\\342\\200\\231ve had ice cream before that I have really enjoyed but never to the point where I physically can not stomach it. I love salted caramel but this is just another level. I actually came here to read the reviews and see how others thought of it just in case mine was a bad batch. Never again!                 \n",
       "6 I bought this last night to go with Louisiana Crunch cake because I was craving that salty and sweet flavor. Unfortunately, I was not thrilled with the salted caramel core of this ice cream. Usually, when you have salted caramel, the salt enhances the flavor of the caramel. The salt in this core OVERWHELMED everything, even the cake. It was disappointing to not enjoy my dessert and I doubt I'll be finishing this pint of ice cream, which is a shame because you should never have to throw away ice cream.                                                                                                                                                                                                                   \n",
       "  taste ingredients.y texture likes\n",
       "1 NA    NA            NA           \n",
       "2 NA    NA            NA           \n",
       "3 NA    NA            NA           \n",
       "4 NA    NA            NA           \n",
       "5 NA    NA            NA           \n",
       "6 NA    NA            NA           "
      ]
     },
     "metadata": {},
     "output_type": "display_data"
    }
   ],
   "source": [
    "head(merged_data)"
   ]
  },
  {
   "cell_type": "markdown",
   "id": "8e586edd-ff26-4ce2-8f6b-2424b26f2929",
   "metadata": {},
   "source": [
    "## Question 3"
   ]
  },
  {
   "cell_type": "code",
   "execution_count": 21,
   "id": "0b93d74c-8778-4ec3-85f5-8a0186e96db7",
   "metadata": {},
   "outputs": [],
   "source": [
    "StrangerThingsDF <- subset(episodes, show_title_id == \"tt4574334\")"
   ]
  },
  {
   "cell_type": "code",
   "execution_count": 22,
   "id": "1efa36db-695c-499a-9dc8-edd93a6b66fe",
   "metadata": {},
   "outputs": [],
   "source": [
    "StrangerThingsBigMergeDF<- merge(merge(merge(merge(StrangerThingsDF, titles, by.x = \"show_title_id\", by.y = \"title_id\"), \n",
    "            titles, by.x = \"episode_title_id\", by.y = \"title_id\"), \n",
    "              ratings, by.x = \"show_title_id\", by.y = \"title_id\"),\n",
    "              ratings, by.x = \"episode_title_id\", by.y = \"title_id\")"
   ]
  },
  {
   "cell_type": "code",
   "execution_count": 23,
   "id": "0813d2e7-a30c-44b1-83a5-1db21585a24b",
   "metadata": {},
   "outputs": [
    {
     "data": {
      "text/plain": [
       "[1] 25 24"
      ]
     },
     "metadata": {},
     "output_type": "display_data"
    }
   ],
   "source": [
    "dim(StrangerThingsBigMergeDF)"
   ]
  },
  {
   "cell_type": "code",
   "execution_count": 15,
   "id": "f383a218-421b-43e3-ad5e-5d717d72fdc0",
   "metadata": {},
   "outputs": [
    {
     "data": {
      "text/plain": [
       "  episode_title_id show_title_id season_number episode_number type.x  \n",
       "1 tt6020808        tt4574334     2             6              tvSeries\n",
       "2 tt7911942        tt4574334     3             8              tvSeries\n",
       "3 tt4593138        tt4574334     1             8              tvSeries\n",
       "4 tt6020812        tt4574334     2             8              tvSeries\n",
       "5 tt6020876        tt4574334     2             9              tvSeries\n",
       "  primary_title.x original_title.x is_adult.x premiered.x ended.x ...\n",
       "1 Stranger Things Stranger Things  0          2016        NA      ...\n",
       "2 Stranger Things Stranger Things  0          2016        NA      ...\n",
       "3 Stranger Things Stranger Things  0          2016        NA      ...\n",
       "4 Stranger Things Stranger Things  0          2016        NA      ...\n",
       "5 Stranger Things Stranger Things  0          2016        NA      ...\n",
       "  original_title.y                       is_adult.y premiered.y ended.y\n",
       "1 Chapter Six: The Spy                   0          2017        NA     \n",
       "2 Chapter Eight: The Battle of Starcourt 0          2019        NA     \n",
       "3 Chapter Eight: The Upside Down         0          2016        NA     \n",
       "4 Chapter Eight: The Mind Flayer         0          2017        NA     \n",
       "5 Chapter Nine: The Gate                 0          2017        NA     \n",
       "  runtime_minutes.y genres.y             rating.x votes.x rating.y votes.y\n",
       "1 51                Drama,Fantasy,Horror 8.7      870577  9.2      15465  \n",
       "2 76                Drama,Fantasy,Horror 8.7      870577  9.2      22961  \n",
       "3 54                Drama,Fantasy,Horror 8.7      870577  9.3      19912  \n",
       "4 47                Drama,Fantasy,Horror 8.7      870577  9.3      16915  \n",
       "5 62                Drama,Fantasy,Horror 8.7      870577  9.4      19023  "
      ]
     },
     "metadata": {},
     "output_type": "display_data"
    }
   ],
   "source": [
    "tail(StrangerThingsBigMergeDF[order(StrangerThingsBigMergeDF$rating.y), ], n=5)"
   ]
  },
  {
   "cell_type": "markdown",
   "id": "99b5e057-2e17-4b6f-9bc5-68997fc6ccd2",
   "metadata": {},
   "source": [
    "5) tt6020808           \n",
    "4) tt7911942                 \n",
    "3) tt4593138         \n",
    "2) tt6020812          \n",
    "1) tt6020876   are episode id's of top 5 episodes."
   ]
  },
  {
   "cell_type": "markdown",
   "id": "da22f29c-d245-4d2b-9fc1-ca14cb6087d9",
   "metadata": {},
   "source": [
    "## Question 4"
   ]
  },
  {
   "cell_type": "code",
   "execution_count": 16,
   "id": "8cffc767-d1c8-4d64-b7dc-f0d2ee8a80d1",
   "metadata": {},
   "outputs": [
    {
     "data": {
      "text/plain": [
       "  episode_title_id show_title_id season_number episode_number type.x  \n",
       "1 tt7445494        tt4574334     3             1              tvSeries\n",
       "2 tt7640050        tt4574334     3             2              tvSeries\n",
       "3 tt7911866        tt4574334     3             3              tvSeries\n",
       "  primary_title.x original_title.x is_adult.x premiered.x ended.x ...\n",
       "1 Stranger Things Stranger Things  0          2016        NA      ...\n",
       "2 Stranger Things Stranger Things  0          2016        NA      ...\n",
       "3 Stranger Things Stranger Things  0          2016        NA      ...\n",
       "  original_title.y                                 is_adult.y premiered.y\n",
       "1 Chapter One: Suzie, Do You Copy?                 0          2019       \n",
       "2 Chapter Two: The Mall Rats                       0          2019       \n",
       "3 Chapter Three: The Case of the Missing Lifeguard 0          2019       \n",
       "  ended.y runtime_minutes.y genres.y             rating.x votes.x rating.y\n",
       "1 NA      50                Drama,Fantasy,Horror 8.7      870577  7.9     \n",
       "2 NA      50                Drama,Fantasy,Horror 8.7      870577  8.0     \n",
       "3 NA      49                Drama,Fantasy,Horror 8.7      870577  8.4     \n",
       "  votes.y\n",
       "1 16701  \n",
       "2 14982  \n",
       "3 14470  "
      ]
     },
     "metadata": {},
     "output_type": "display_data"
    }
   ],
   "source": [
    "StrangerThingsBigMergeDF[ (StrangerThingsBigMergeDF$season_number == 3) & (StrangerThingsBigMergeDF$rating.y < 8.5), ]"
   ]
  },
  {
   "cell_type": "code",
   "execution_count": 34,
   "id": "ef3c96e7-3dee-42f6-be75-44de0d412053",
   "metadata": {},
   "outputs": [
    {
     "data": {
      "text/plain": [
       "  episode_title_id show_title_id season_number episode_number type.x  \n",
       "1 tt7445494        tt4574334     3             1              tvSeries\n",
       "2 tt7640050        tt4574334     3             2              tvSeries\n",
       "3 tt7911866        tt4574334     3             3              tvSeries\n",
       "  primary_title.x original_title.x is_adult.x premiered.x ended.x ...\n",
       "1 Stranger Things Stranger Things  0          2016        NA      ...\n",
       "2 Stranger Things Stranger Things  0          2016        NA      ...\n",
       "3 Stranger Things Stranger Things  0          2016        NA      ...\n",
       "  original_title.y                                 is_adult.y premiered.y\n",
       "1 Chapter One: Suzie, Do You Copy?                 0          2019       \n",
       "2 Chapter Two: The Mall Rats                       0          2019       \n",
       "3 Chapter Three: The Case of the Missing Lifeguard 0          2019       \n",
       "  ended.y runtime_minutes.y genres.y             rating.x votes.x rating.y\n",
       "1 NA      50                Drama,Fantasy,Horror 8.7      870577  7.9     \n",
       "2 NA      50                Drama,Fantasy,Horror 8.7      870577  8.0     \n",
       "3 NA      49                Drama,Fantasy,Horror 8.7      870577  8.4     \n",
       "  votes.y\n",
       "1 16701  \n",
       "2 14982  \n",
       "3 14470  "
      ]
     },
     "metadata": {},
     "output_type": "display_data"
    }
   ],
   "source": [
    "subset(StrangerThingsBigMergeDF, (season_number == 3) & (rating.y < 8.5))"
   ]
  },
  {
   "cell_type": "markdown",
   "id": "88c9cdac-3e92-498f-83fa-e089bfc44ac8",
   "metadata": {},
   "source": [
    "## Question 5"
   ]
  },
  {
   "cell_type": "code",
   "execution_count": 33,
   "id": "997c8468-8739-436d-85ab-c616c6544e55",
   "metadata": {},
   "outputs": [
    {
     "data": {
      "text/plain": [
       "  episode_title_id show_title_id season_number episode_number type.x  \n",
       "1 tt7445494        tt4574334     3             1              tvSeries\n",
       "2 tt7640050        tt4574334     3             2              tvSeries\n",
       "3 tt7911866        tt4574334     3             3              tvSeries\n",
       "  primary_title.x original_title.x is_adult.x premiered.x ended.x ...\n",
       "1 Stranger Things Stranger Things  0          2016        NA      ...\n",
       "2 Stranger Things Stranger Things  0          2016        NA      ...\n",
       "3 Stranger Things Stranger Things  0          2016        NA      ...\n",
       "  original_title.y                                 is_adult.y premiered.y\n",
       "1 Chapter One: Suzie, Do You Copy?                 0          2019       \n",
       "2 Chapter Two: The Mall Rats                       0          2019       \n",
       "3 Chapter Three: The Case of the Missing Lifeguard 0          2019       \n",
       "  ended.y runtime_minutes.y genres.y             rating.x votes.x rating.y\n",
       "1 NA      50                Drama,Fantasy,Horror 8.7      870577  7.9     \n",
       "2 NA      50                Drama,Fantasy,Horror 8.7      870577  8.0     \n",
       "3 NA      49                Drama,Fantasy,Horror 8.7      870577  8.4     \n",
       "  votes.y\n",
       "1 16701  \n",
       "2 14982  \n",
       "3 14470  "
      ]
     },
     "metadata": {},
     "output_type": "display_data"
    }
   ],
   "source": [
    "season_number <- 3\n",
    "subset(StrangerThingsBigMergeDF, (season_number == 3) & (rating.y < 8.5))"
   ]
  },
  {
   "cell_type": "code",
   "execution_count": null,
   "id": "67911cd7-69e7-4d99-96df-268cc8cd33d5",
   "metadata": {},
   "outputs": [],
   "source": [
    "#SHOULD NOT use the same variable for different concepts"
   ]
  },
  {
   "cell_type": "markdown",
   "id": "9fbf00fb-2418-460f-ae94-2a32b0c28952",
   "metadata": {},
   "source": [
    "difference between regular indexing and creating a subset is that regular indexing retrieves a specific element based on its position (index), while creating a subset selects multiple elements based on a condition or criteria."
   ]
  },
  {
   "cell_type": "markdown",
   "id": "f76442d6-d02e-4f26-b9d6-c3183e1d6929",
   "metadata": {},
   "source": [
    "## Pledge\n",
    "\n",
    "By submitting this work I hereby pledge that this is my own, personal work. I've acknowledged in the designated place at the top of this file all sources that I used to complete said work, including but not limited to: online resources, books, and electronic communications. I've noted all collaboration with fellow students and/or TA's. I did not copy or plagiarize another's work.\n",
    "\n",
    "> As a Boilermaker pursuing academic excellence, I pledge to be honest and true in all that I do. Accountable together – We are Purdue."
   ]
  }
 ],
 "metadata": {
  "kernelspec": {
   "display_name": "seminar-r",
   "language": "R",
   "name": "seminar-r"
  },
  "language_info": {
   "codemirror_mode": "r",
   "file_extension": ".r",
   "mimetype": "text/x-r-source",
   "name": "R",
   "pygments_lexer": "r",
   "version": "4.3.1"
  }
 },
 "nbformat": 4,
 "nbformat_minor": 5
}
