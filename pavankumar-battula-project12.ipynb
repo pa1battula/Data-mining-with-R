{
 "cells": [
  {
   "cell_type": "markdown",
   "id": "be02a957-7133-4d02-818e-fedeb3cecb05",
   "metadata": {},
   "source": [
    "# Project 12 -- [Pavan Kumar] [Battula]"
   ]
  },
  {
   "cell_type": "markdown",
   "id": "a1228853-dd19-4ab2-89e0-0394d7d72de3",
   "metadata": {},
   "source": [
    "**TA Help:** N/A\n",
    "    \n",
    "**Collaboration:** N/A"
   ]
  },
  {
   "cell_type": "markdown",
   "id": "6180e742-8e39-4698-98ff-5b00c8cf8ea0",
   "metadata": {},
   "source": [
    "## Question 1"
   ]
  },
  {
   "cell_type": "code",
   "execution_count": 1,
   "id": "49445606-d363-41b4-b479-e319a9a84c01",
   "metadata": {},
   "outputs": [],
   "source": [
    "library(data.table)\n",
    "options(jupyter.rich_display = F)\n",
    "options(repr.matrix.max.cols=30, repr.matrix.max.rows=200)"
   ]
  },
  {
   "cell_type": "code",
   "execution_count": 2,
   "id": "d73f4f82-c9c9-4abb-85c1-b79cee8bf3a2",
   "metadata": {},
   "outputs": [],
   "source": [
    "orders <- fread(\"/anvil/projects/tdm/data/restaurant/orders.csv\")"
   ]
  },
  {
   "cell_type": "code",
   "execution_count": 10,
   "id": "0b62f19c-fb86-462a-92f7-7a10f7c6bd13",
   "metadata": {},
   "outputs": [],
   "source": [
    "orders$month_year_substr <- substr(orders$created_at, 1, 7)"
   ]
  },
  {
   "cell_type": "code",
   "execution_count": 9,
   "id": "415488e2-b601-4138-bc1c-a4411145acb8",
   "metadata": {},
   "outputs": [
    {
     "data": {
      "text/plain": [
       "\n",
       "2019-05 2019-06 2019-07 2019-08 2019-09 2019-10 2019-11 2019-12 2020-01 2020-02 \n",
       "      1   10120   10175    8933    6609   19893   18249   19815   17825   23683 "
      ]
     },
     "metadata": {},
     "output_type": "display_data"
    }
   ],
   "source": [
    "table(orders$month_year_substr)"
   ]
  },
  {
   "cell_type": "code",
   "execution_count": 12,
   "id": "ec0e15f1-d14d-4abd-bc84-4c209568720c",
   "metadata": {},
   "outputs": [],
   "source": [
    "orders$month <- month(orders$created_at)"
   ]
  },
  {
   "cell_type": "code",
   "execution_count": 13,
   "id": "cc07a92d-cc40-43ba-ad67-cbc0ede35584",
   "metadata": {},
   "outputs": [],
   "source": [
    "orders$year <- year(orders$created_at)"
   ]
  },
  {
   "cell_type": "code",
   "execution_count": 14,
   "id": "3512313d-739e-48e1-8278-b4db88b5e65a",
   "metadata": {},
   "outputs": [],
   "source": [
    "orders$month_year_func <- paste(orders$year, \"-\", orders$month, sep = \"\")"
   ]
  },
  {
   "cell_type": "code",
   "execution_count": 15,
   "id": "36bb859e-7ea1-4ef1-b49b-4fd56919762f",
   "metadata": {},
   "outputs": [
    {
     "data": {
      "text/plain": [
       "\n",
       "2019-10 2019-11 2019-12  2019-5  2019-6  2019-7  2019-8  2019-9  2020-1  2020-2 \n",
       "  19893   18249   19815       1   10120   10175    8933    6609   17825   23683 "
      ]
     },
     "metadata": {},
     "output_type": "display_data"
    }
   ],
   "source": [
    "table(orders$month_year_func)"
   ]
  },
  {
   "cell_type": "code",
   "execution_count": 16,
   "id": "6e44244c-e757-4425-a0fd-11f9313ded80",
   "metadata": {},
   "outputs": [],
   "source": [
    "orders$month_year_format <- format(orders$created_at, \"%Y-%m\")"
   ]
  },
  {
   "cell_type": "code",
   "execution_count": 17,
   "id": "7239f687-3149-4eb1-b2df-2ac748b7a998",
   "metadata": {},
   "outputs": [
    {
     "data": {
      "text/plain": [
       "\n",
       "2019-05 2019-06 2019-07 2019-08 2019-09 2019-10 2019-11 2019-12 2020-01 2020-02 \n",
       "      1   10120   10175    8933    6609   19893   18249   19815   17825   23683 "
      ]
     },
     "metadata": {},
     "output_type": "display_data"
    }
   ],
   "source": [
    "table(orders$month_year_format)"
   ]
  },
  {
   "cell_type": "markdown",
   "id": "fc601975-35ed-4680-a4e1-0273ee3cc047",
   "metadata": {},
   "source": [
    "## Question 2"
   ]
  },
  {
   "cell_type": "code",
   "execution_count": 18,
   "id": "a16336a1-1ef0-41e8-bc7c-49387db27497",
   "metadata": {},
   "outputs": [],
   "source": [
    "orders_count <- table(orders$customer_id)"
   ]
  },
  {
   "cell_type": "code",
   "execution_count": 19,
   "id": "68af36e4-736f-46b8-9527-a5d7666ec8bc",
   "metadata": {},
   "outputs": [],
   "source": [
    "max_orders_customer <- names(orders_count[orders_count == max(orders_count)])"
   ]
  },
  {
   "cell_type": "code",
   "execution_count": 28,
   "id": "437bc49e-b6c2-4ace-88e7-911fe02a77b1",
   "metadata": {},
   "outputs": [
    {
     "data": {
      "text/plain": [
       "[1] \"XW90EAP\""
      ]
     },
     "metadata": {},
     "output_type": "display_data"
    }
   ],
   "source": [
    "max_orders_customer"
   ]
  },
  {
   "cell_type": "code",
   "execution_count": 23,
   "id": "fc39508e-2018-4d83-9d5b-4a759579f136",
   "metadata": {},
   "outputs": [],
   "source": [
    "customer_orders <- subset(orders, customer_id == max_orders_customer)\n",
    "customer_month_year <- table(customer_orders$month_year_format)"
   ]
  },
  {
   "cell_type": "code",
   "execution_count": 24,
   "id": "660a585f-00b0-4e6b-8951-8f013535a90e",
   "metadata": {},
   "outputs": [],
   "source": [
    "max_month_year <- names(customer_month_year[customer_month_year == max(customer_month_year)])"
   ]
  },
  {
   "cell_type": "code",
   "execution_count": 27,
   "id": "20b6762b-9d7a-42e0-9519-ee888bd45cbb",
   "metadata": {},
   "outputs": [
    {
     "data": {
      "text/plain": [
       "[1] \"2019-06\""
      ]
     },
     "metadata": {},
     "output_type": "display_data"
    }
   ],
   "source": [
    "max_month_year"
   ]
  },
  {
   "cell_type": "markdown",
   "id": "8e586edd-ff26-4ce2-8f6b-2424b26f2929",
   "metadata": {},
   "source": [
    "## Question 3"
   ]
  },
  {
   "cell_type": "code",
   "execution_count": 29,
   "id": "bbe0f40d-9655-4653-9ca8-886bdb61cb91",
   "metadata": {},
   "outputs": [],
   "source": [
    "payment_counts <- table(orders$payment_mode)"
   ]
  },
  {
   "cell_type": "code",
   "execution_count": 30,
   "id": "766165fb-d6da-4485-8cc1-03c5f6672c4e",
   "metadata": {},
   "outputs": [
    {
     "data": {
      "text/plain": [
       "\n",
       "     1      2      3      4      5 \n",
       "104714  22079   1361   6696    453 "
      ]
     },
     "metadata": {},
     "output_type": "display_data"
    }
   ],
   "source": [
    "payment_counts"
   ]
  },
  {
   "cell_type": "code",
   "execution_count": 31,
   "id": "33cb3a3c-36c8-4e13-9a27-9298fdfa97eb",
   "metadata": {},
   "outputs": [],
   "source": [
    "customer_orders <- subset(orders, customer_id == max_orders_customer)"
   ]
  },
  {
   "cell_type": "code",
   "execution_count": 32,
   "id": "25dcc492-1ef8-4cff-aed1-178095ace64a",
   "metadata": {},
   "outputs": [
    {
     "data": {
      "text/plain": [
       "\n",
       "  1   2   4   5 \n",
       " 59 188  14   1 "
      ]
     },
     "metadata": {},
     "output_type": "display_data"
    }
   ],
   "source": [
    "customer_payment_counts <- table(customer_orders$payment_mode)\n",
    "customer_payment_counts"
   ]
  },
  {
   "cell_type": "markdown",
   "id": "47c6229f-35f7-400c-8366-c442baa5cf47",
   "metadata": {},
   "source": [
    "types of 5 is 1 time."
   ]
  },
  {
   "cell_type": "markdown",
   "id": "da22f29c-d245-4d2b-9fc1-ca14cb6087d9",
   "metadata": {},
   "source": [
    "## Question 4"
   ]
  },
  {
   "cell_type": "code",
   "execution_count": 33,
   "id": "8cffc767-d1c8-4d64-b7dc-f0d2ee8a80d1",
   "metadata": {},
   "outputs": [],
   "source": [
    "orders$created_at <- as.Date(orders$created_at)"
   ]
  },
  {
   "cell_type": "code",
   "execution_count": 41,
   "id": "48ac67f8-c0ba-4558-a153-46af87919cfe",
   "metadata": {},
   "outputs": [],
   "source": [
    "ordersJan2020 <- subset(orders, format(created_at, \"%Y-%m\") == \"2020-01\")"
   ]
  },
  {
   "cell_type": "code",
   "execution_count": 42,
   "id": "09fc2357-d20b-4a75-bd83-5b8510e271dd",
   "metadata": {},
   "outputs": [],
   "source": [
    "ordersJan2020$day_of_week <- wday(ordersJan2020$created_at, label = TRUE)"
   ]
  },
  {
   "cell_type": "code",
   "execution_count": 43,
   "id": "a29623f9-1d98-49a9-a6d8-b0b52603f73e",
   "metadata": {},
   "outputs": [],
   "source": [
    "library(ggplot2)"
   ]
  },
  {
   "cell_type": "code",
   "execution_count": 44,
   "id": "931df1c5-a75f-402e-b7e1-9480cc5433b0",
   "metadata": {},
   "outputs": [
    {
     "data": {
      "image/png": "[encoded data removed]",
      "text/plain": [
       "plot without title"
      ]
     },
     "metadata": {
      "image/png": {
       "height": 420,
       "width": 420
      }
     },
     "output_type": "display_data"
    }
   ],
   "source": [
    "ggplot(ordersJan2020, aes(x = day_of_week, y = grand_total)) +\n",
    "  geom_bar(stat = \"summary\", fun = \"sum\", fill = \"skyblue\", color = \"black\") +\n",
    "  labs( title = \"Sum of Grand Total Values for Each Day of the Week (January 2020)\",\n",
    "    x = \"Day of the Week\", y = \"Sum of Grand Total\") + theme_minimal()"
   ]
  },
  {
   "cell_type": "markdown",
   "id": "f76442d6-d02e-4f26-b9d6-c3183e1d6929",
   "metadata": {},
   "source": [
    "## Pledge\n",
    "\n",
    "By submitting this work I hereby pledge that this is my own, personal work. I've acknowledged in the designated place at the top of this file all sources that I used to complete said work, including but not limited to: online resources, books, and electronic communications. I've noted all collaboration with fellow students and/or TA's. I did not copy or plagiarize another's work.\n",
    "\n",
    "> As a Boilermaker pursuing academic excellence, I pledge to be honest and true in all that I do. Accountable together – We are Purdue."
   ]
  }
 ],
 "metadata": {
  "kernelspec": {
   "display_name": "seminar-r",
   "language": "R",
   "name": "seminar-r"
  },
  "language_info": {
   "codemirror_mode": "r",
   "file_extension": ".r",
   "mimetype": "text/x-r-source",
   "name": "R",
   "pygments_lexer": "r",
   "version": "4.3.1"
  }
 },
 "nbformat": 4,
 "nbformat_minor": 5
}
