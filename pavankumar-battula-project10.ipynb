{
 "cells": [
  {
   "cell_type": "markdown",
   "id": "be02a957-7133-4d02-818e-fedeb3cecb05",
   "metadata": {},
   "source": [
    "# Project 10-- [Pavan Kumar] [Battula]"
   ]
  },
  {
   "cell_type": "markdown",
   "id": "a1228853-dd19-4ab2-89e0-0394d7d72de3",
   "metadata": {},
   "source": [
    "**TA Help:** N/A\n",
    "\n",
    "**Collaboration:**  N/A\n",
    "    "
   ]
  },
  {
   "cell_type": "markdown",
   "id": "6180e742-8e39-4698-98ff-5b00c8cf8ea0",
   "metadata": {},
   "source": [
    "## Question 1"
   ]
  },
  {
   "cell_type": "code",
   "execution_count": 5,
   "id": "49445606-d363-41b4-b479-e319a9a84c01",
   "metadata": {},
   "outputs": [],
   "source": [
    "library(data.table)\n",
    "options(jupyter.rich_display = F)\n",
    "options(repr.matrix.max.cols=30, repr.matrix.max.rows=200)"
   ]
  },
  {
   "cell_type": "code",
   "execution_count": 7,
   "id": "83b7e7aa-382a-4528-ab63-b672fa63ef25",
   "metadata": {},
   "outputs": [],
   "source": [
    "orders <- fread(\"/anvil/projects/tdm/data/restaurant/orders.csv\")\n",
    "vendors <- fread(\"/anvil/projects/tdm/data/restaurant/vendors.csv\")"
   ]
  },
  {
   "cell_type": "code",
   "execution_count": 9,
   "id": "fc23d6f1-8173-4953-a5d6-74aeadb956d5",
   "metadata": {},
   "outputs": [],
   "source": [
    "fries_vendors_1a <- subset(vendors, grepl(\"Fries\", vendor_tag_name))"
   ]
  },
  {
   "cell_type": "code",
   "execution_count": 11,
   "id": "31ef9ca2-0f94-4f85-99f3-f49e6ff181fa",
   "metadata": {},
   "outputs": [
    {
     "data": {
      "text/plain": [
       "[1] 20 59"
      ]
     },
     "metadata": {},
     "output_type": "display_data"
    }
   ],
   "source": [
    "dim(fries_vendors_1a)"
   ]
  },
  {
   "cell_type": "code",
   "execution_count": 12,
   "id": "91774952-b86f-4223-ab7e-d4b6de6e538f",
   "metadata": {},
   "outputs": [],
   "source": [
    "fries_indices <- grep(\"Fries\", vendors$vendor_tag_name)\n",
    "fries_vendors_1b <- vendors[fries_indices, ]"
   ]
  },
  {
   "cell_type": "code",
   "execution_count": 13,
   "id": "115d24ee-9050-41de-8ea6-853e182ca212",
   "metadata": {},
   "outputs": [
    {
     "data": {
      "text/plain": [
       "[1] 20 59"
      ]
     },
     "metadata": {},
     "output_type": "display_data"
    }
   ],
   "source": [
    "dim(fries_vendors_1b)"
   ]
  },
  {
   "cell_type": "markdown",
   "id": "53d73268-e945-431e-9b3f-064c4fe1d1bd",
   "metadata": {},
   "source": [
    "yes, Both have same dimensions."
   ]
  },
  {
   "cell_type": "code",
   "execution_count": 14,
   "id": "cb9e2850-74d9-4b39-9f3e-87ac44708edb",
   "metadata": {},
   "outputs": [
    {
     "data": {
      "text/plain": [
       "[1] TRUE"
      ]
     },
     "metadata": {},
     "output_type": "display_data"
    }
   ],
   "source": [
    "identical(dim(fries_vendors_1a), dim(fries_vendors_1b))"
   ]
  },
  {
   "cell_type": "markdown",
   "id": "fc601975-35ed-4680-a4e1-0273ee3cc047",
   "metadata": {},
   "source": [
    "## Question 2"
   ]
  },
  {
   "cell_type": "code",
   "execution_count": 25,
   "id": "a16336a1-1ef0-41e8-bc7c-49387db27497",
   "metadata": {},
   "outputs": [
    {
     "name": "stdout",
     "output_type": "stream",
     "text": [
      "\n",
      "  0 0.7 \n",
      " 41  59 \n"
     ]
    }
   ],
   "source": [
    "delivery_charge_table <- table(vendors$delivery_charge)\n",
    "print(delivery_charge_table)"
   ]
  },
  {
   "cell_type": "code",
   "execution_count": 30,
   "id": "62b51828-2e2d-4822-a7ff-72407b274875",
   "metadata": {},
   "outputs": [
    {
     "name": "stdout",
     "output_type": "stream",
     "text": [
      "\n",
      "  0 0.7 \n",
      " 41  59 \n"
     ]
    }
   ],
   "source": [
    "delivery_charge_percentages <- prop.table(delivery_charge_table) * 100\n",
    "print(delivery_charge_percentages)"
   ]
  },
  {
   "cell_type": "markdown",
   "id": "14dc22d4-ddc3-41cc-a91a-cb0025bc0c80",
   "metadata": {},
   "source": [
    "Markdown notes and sentences and analysis written here."
   ]
  },
  {
   "cell_type": "markdown",
   "id": "8e586edd-ff26-4ce2-8f6b-2424b26f2929",
   "metadata": {},
   "source": [
    "## Question 3"
   ]
  },
  {
   "cell_type": "code",
   "execution_count": 45,
   "id": "bbe0f40d-9655-4653-9ca8-886bdb61cb91",
   "metadata": {},
   "outputs": [
    {
     "name": "stdout",
     "output_type": "stream",
     "text": [
      "\n",
      "  0 0.7 \n",
      " 35  54 \n"
     ]
    }
   ],
   "source": [
    "vendors_category_2 <- subset(vendors, vendor_category_id == 2)\n",
    "delivery_charge_table_category_2 <- table(vendors_category_2$delivery_charge)\n",
    "print(delivery_charge_table_category_2)"
   ]
  },
  {
   "cell_type": "code",
   "execution_count": 32,
   "id": "170d011f-f8df-4cc2-9251-7296c07a75cc",
   "metadata": {},
   "outputs": [
    {
     "name": "stdout",
     "output_type": "stream",
     "text": [
      "\n",
      "       0      0.7 \n",
      "39.32584 60.67416 \n"
     ]
    }
   ],
   "source": [
    "delivery_charge_percentages_category_2 <- prop.table(delivery_charge_table_category_2) * 100\n",
    "print(delivery_charge_percentages_category_2)"
   ]
  },
  {
   "cell_type": "code",
   "execution_count": 34,
   "id": "a1b2dd65-293b-49dd-a14e-9e4b672018ab",
   "metadata": {},
   "outputs": [
    {
     "name": "stdout",
     "output_type": "stream",
     "text": [
      "\n",
      "  0 0.7 \n",
      "  6   5 \n"
     ]
    }
   ],
   "source": [
    "vendors_category_3 <- subset(vendors, vendor_category_id == 3)\n",
    "delivery_charge_table_category_3 <- table(vendors_category_3$delivery_charge)\n",
    "print(delivery_charge_table_category_3)"
   ]
  },
  {
   "cell_type": "code",
   "execution_count": 35,
   "id": "910e902c-e3f3-47f7-86dd-7be0ac5fa923",
   "metadata": {},
   "outputs": [
    {
     "name": "stdout",
     "output_type": "stream",
     "text": [
      "\n",
      "       0      0.7 \n",
      "54.54545 45.45455 \n"
     ]
    }
   ],
   "source": [
    "delivery_charge_percentages_category_3 <- prop.table(delivery_charge_table_category_3) * 100\n",
    "print(delivery_charge_percentages_category_3)"
   ]
  },
  {
   "cell_type": "markdown",
   "id": "47c6229f-35f7-400c-8366-c442baa5cf47",
   "metadata": {},
   "source": [
    "Markdown notes and sentences and analysis written here."
   ]
  },
  {
   "cell_type": "markdown",
   "id": "da22f29c-d245-4d2b-9fc1-ca14cb6087d9",
   "metadata": {},
   "source": [
    "## Question 4"
   ]
  },
  {
   "cell_type": "code",
   "execution_count": 37,
   "id": "17c9a0e2-ccea-4b67-981b-8c7a413c804a",
   "metadata": {},
   "outputs": [],
   "source": [
    "count_to_percentage <- function(counts) {\n",
    "  percentages <- (counts / sum(counts)) * 100\n",
    "  return(percentages)\n",
    "}"
   ]
  },
  {
   "cell_type": "code",
   "execution_count": null,
   "id": "06c4a597-599b-4434-9cb2-77896286162e",
   "metadata": {},
   "outputs": [],
   "source": [
    "result_category_2 <- tapply(vendors[vendors$vendor_category_id == 2, \"delivery_charge\"],\n",
    "                           vendors[vendors$vendor_category_id == 2, \"delivery_charge\"],\n",
    "                           FUN = count_to_percentage)"
   ]
  },
  {
   "cell_type": "code",
   "execution_count": 39,
   "id": "9660e5d2-eb6b-455a-9d0c-b53ac2ba731f",
   "metadata": {},
   "outputs": [
    {
     "name": "stdout",
     "output_type": "stream",
     "text": [
      "[1] \"Vendor Category 2 - Delivery Charge Percentages:\"\n",
      "$`0`\n",
      " [1] NaN NaN NaN NaN NaN NaN NaN NaN NaN NaN NaN NaN NaN NaN NaN NaN NaN NaN NaN\n",
      "[20] NaN NaN NaN NaN NaN NaN NaN NaN NaN NaN NaN NaN NaN NaN NaN NaN\n",
      "\n",
      "$`0.7`\n",
      " [1] 1.851852 1.851852 1.851852 1.851852 1.851852 1.851852 1.851852 1.851852\n",
      " [9] 1.851852 1.851852 1.851852 1.851852 1.851852 1.851852 1.851852 1.851852\n",
      "[17] 1.851852 1.851852 1.851852 1.851852 1.851852 1.851852 1.851852 1.851852\n",
      "[25] 1.851852 1.851852 1.851852 1.851852 1.851852 1.851852 1.851852 1.851852\n",
      "[33] 1.851852 1.851852 1.851852 1.851852 1.851852 1.851852 1.851852 1.851852\n",
      "[41] 1.851852 1.851852 1.851852 1.851852 1.851852 1.851852 1.851852 1.851852\n",
      "[49] 1.851852 1.851852 1.851852 1.851852 1.851852 1.851852\n",
      "\n"
     ]
    }
   ],
   "source": [
    "print(\"Vendor Category 2 - Delivery Charge Percentages:\")\n",
    "print(result_category_2)"
   ]
  },
  {
   "cell_type": "code",
   "execution_count": null,
   "id": "7c236bfb-f74a-4960-8fdf-b9e05bff0640",
   "metadata": {},
   "outputs": [],
   "source": [
    "result_category_3 <- tapply(vendors[vendors$vendor_category_id == 3, \"delivery_charge\"],\n",
    "                           vendors[vendors$vendor_category_id == 3, \"delivery_charge\"],\n",
    "                           FUN = count_to_percentage)\n"
   ]
  },
  {
   "cell_type": "code",
   "execution_count": 40,
   "id": "8cffc767-d1c8-4d64-b7dc-f0d2ee8a80d1",
   "metadata": {},
   "outputs": [
    {
     "name": "stdout",
     "output_type": "stream",
     "text": [
      "[1] \"Vendor Category 3 - Delivery Charge Percentages:\"\n",
      "$`0`\n",
      "[1] NaN NaN NaN NaN NaN NaN\n",
      "\n",
      "$`0.7`\n",
      "[1] 20 20 20 20 20\n",
      "\n"
     ]
    }
   ],
   "source": [
    "print(\"Vendor Category 3 - Delivery Charge Percentages:\")\n",
    "print(result_category_3)"
   ]
  },
  {
   "cell_type": "markdown",
   "id": "88c9cdac-3e92-498f-83fa-e089bfc44ac8",
   "metadata": {},
   "source": [
    "## Question 5"
   ]
  },
  {
   "cell_type": "code",
   "execution_count": 42,
   "id": "3dbd1813-7b58-445e-b399-3cb338edca17",
   "metadata": {},
   "outputs": [],
   "source": [
    "count_to_percentage <- function(counts) {\n",
    "  percentages <- (counts / sum(counts)) * 100\n",
    "  return(percentages)\n",
    "}"
   ]
  },
  {
   "cell_type": "code",
   "execution_count": 43,
   "id": "8cd692c8-44f6-442b-8e66-ca5f610af732",
   "metadata": {},
   "outputs": [
    {
     "name": "stdout",
     "output_type": "stream",
     "text": [
      "[1] \"Vendor Category 2 - Delivery Charge Percentages:\"\n",
      "$`0`\n",
      " [1] NaN NaN NaN NaN NaN NaN NaN NaN NaN NaN NaN NaN NaN NaN NaN NaN NaN NaN NaN\n",
      "[20] NaN NaN NaN NaN NaN NaN NaN NaN NaN NaN NaN NaN NaN NaN NaN NaN\n",
      "\n",
      "$`0.7`\n",
      " [1] 1.851852 1.851852 1.851852 1.851852 1.851852 1.851852 1.851852 1.851852\n",
      " [9] 1.851852 1.851852 1.851852 1.851852 1.851852 1.851852 1.851852 1.851852\n",
      "[17] 1.851852 1.851852 1.851852 1.851852 1.851852 1.851852 1.851852 1.851852\n",
      "[25] 1.851852 1.851852 1.851852 1.851852 1.851852 1.851852 1.851852 1.851852\n",
      "[33] 1.851852 1.851852 1.851852 1.851852 1.851852 1.851852 1.851852 1.851852\n",
      "[41] 1.851852 1.851852 1.851852 1.851852 1.851852 1.851852 1.851852 1.851852\n",
      "[49] 1.851852 1.851852 1.851852 1.851852 1.851852 1.851852\n",
      "\n"
     ]
    }
   ],
   "source": [
    "percentages_category_2 <- sapply(result_category_2, count_to_percentage)\n",
    "\n",
    "print(\"Vendor Category 2 - Delivery Charge Percentages:\")\n",
    "print(percentages_category_2)"
   ]
  },
  {
   "cell_type": "code",
   "execution_count": 44,
   "id": "d370d7c9-06db-42b9-b75f-240481a5c491",
   "metadata": {},
   "outputs": [
    {
     "name": "stdout",
     "output_type": "stream",
     "text": [
      "[1] \"Vendor Category 3 - Delivery Charge Percentages:\"\n",
      "$`0`\n",
      "[1] NaN NaN NaN NaN NaN NaN\n",
      "\n",
      "$`0.7`\n",
      "[1] 20 20 20 20 20\n",
      "\n"
     ]
    }
   ],
   "source": [
    "percentages_category_3 <- sapply(result_category_3, count_to_percentage)\n",
    "\n",
    "print(\"Vendor Category 3 - Delivery Charge Percentages:\")\n",
    "print(percentages_category_3)"
   ]
  },
  {
   "cell_type": "markdown",
   "id": "f76442d6-d02e-4f26-b9d6-c3183e1d6929",
   "metadata": {},
   "source": [
    "## Pledge\n",
    "\n",
    "By submitting this work I hereby pledge that this is my own, personal work. I've acknowledged in the designated place at the top of this file all sources that I used to complete said work, including but not limited to: online resources, books, and electronic communications. I've noted all collaboration with fellow students and/or TA's. I did not copy or plagiarize another's work.\n",
    "\n",
    "> As a Boilermaker pursuing academic excellence, I pledge to be honest and true in all that I do. Accountable together – We are Purdue."
   ]
  }
 ],
 "metadata": {
  "kernelspec": {
   "display_name": "seminar-r",
   "language": "R",
   "name": "seminar-r"
  },
  "language_info": {
   "codemirror_mode": "r",
   "file_extension": ".r",
   "mimetype": "text/x-r-source",
   "name": "R",
   "pygments_lexer": "r",
   "version": "4.3.1"
  }
 },
 "nbformat": 4,
 "nbformat_minor": 5
}
