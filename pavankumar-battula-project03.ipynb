{
 "cells": [
  {
   "cell_type": "markdown",
   "id": "be02a957-7133-4d02-818e-fedeb3cecb05",
   "metadata": {},
   "source": [
    "# Project 03 -- [PAVAN KUMAR] [BATTULA]"
   ]
  },
  {
   "cell_type": "markdown",
   "id": "a1228853-dd19-4ab2-89e0-0394d7d72de3",
   "metadata": {},
   "source": [
    "**TA Help:** N/A\n",
    "\n",
    "- Help with figuring out how to write a function.\n",
    "    \n",
    "**Collaboration:** N/A\n",
    "    \n",
    "- Helped figuring out how to load the dataset.\n",
    "- Helped debug error with my plot."
   ]
  },
  {
   "cell_type": "markdown",
   "id": "6180e742-8e39-4698-98ff-5b00c8cf8ea0",
   "metadata": {},
   "source": [
    "## Question 1"
   ]
  },
  {
   "cell_type": "code",
   "execution_count": 2,
   "id": "49445606-d363-41b4-b479-e319a9a84c01",
   "metadata": {},
   "outputs": [],
   "source": [
    "myDF <- read.csv(\"/anvil/projects/tdm/data/craigslist/vehicles.csv\")"
   ]
  },
  {
   "cell_type": "code",
   "execution_count": 3,
   "id": "a748d695-539a-4620-ab2a-03f8d477a329",
   "metadata": {},
   "outputs": [],
   "source": [
    "options(jupyter.rich_display = F)"
   ]
  },
  {
   "cell_type": "code",
   "execution_count": 16,
   "id": "35b3add3-fa98-45de-88a9-4c4f3e1be561",
   "metadata": {},
   "outputs": [
    {
     "data": {
      "text/plain": [
       "[1] 426880     26"
      ]
     },
     "metadata": {},
     "output_type": "display_data"
    }
   ],
   "source": [
    "dim(myDF)"
   ]
  },
  {
   "cell_type": "markdown",
   "id": "22aa79e8-e581-421b-a4f3-6ab92de5ed9c",
   "metadata": {},
   "source": [
    "Columns-426880 rows-26"
   ]
  },
  {
   "cell_type": "code",
   "execution_count": 6,
   "id": "a182408b-2eb0-4361-ae43-12aab2a97d9e",
   "metadata": {},
   "outputs": [
    {
     "name": "stdout",
     "output_type": "stream",
     "text": [
      "'data.frame':\t426880 obs. of  26 variables:\n",
      " $ id          : num  7.22e+09 7.22e+09 7.22e+09 7.22e+09 7.21e+09 ...\n",
      " $ url         : chr  \"https://prescott.craigslist.org/cto/d/prescott-2010-ford-ranger/7222695916.html\" \"https://fayar.craigslist.org/ctd/d/bentonville-2017-hyundai-elantra-se/7218891961.html\" \"https://keys.craigslist.org/cto/d/summerland-key-2005-excursion/7221797935.html\" \"https://worcester.craigslist.org/cto/d/west-brookfield-2002-honda-odyssey-ex/7222270760.html\" ...\n",
      " $ region      : chr  \"prescott\" \"fayetteville\" \"florida keys\" \"worcester / central MA\" ...\n",
      " $ region_url  : chr  \"https://prescott.craigslist.org\" \"https://fayar.craigslist.org\" \"https://keys.craigslist.org\" \"https://worcester.craigslist.org\" ...\n",
      " $ price       : num  6000 11900 21000 1500 4900 ...\n",
      " $ year        : int  NA NA NA NA NA NA NA NA NA NA ...\n",
      " $ manufacturer: chr  \"\" \"\" \"\" \"\" ...\n",
      " $ model       : chr  \"\" \"\" \"\" \"\" ...\n",
      " $ condition   : chr  \"\" \"\" \"\" \"\" ...\n",
      " $ cylinders   : chr  \"\" \"\" \"\" \"\" ...\n",
      " $ fuel        : chr  \"\" \"\" \"\" \"\" ...\n",
      " $ odometer    : int  NA NA NA NA NA NA NA NA NA NA ...\n",
      " $ title_status: chr  \"\" \"\" \"\" \"\" ...\n",
      " $ transmission: chr  \"\" \"\" \"\" \"\" ...\n",
      " $ VIN         : chr  \"\" \"\" \"\" \"\" ...\n",
      " $ drive       : chr  \"\" \"\" \"\" \"\" ...\n",
      " $ size        : chr  \"\" \"\" \"\" \"\" ...\n",
      " $ type        : chr  \"\" \"\" \"\" \"\" ...\n",
      " $ paint_color : chr  \"\" \"\" \"\" \"\" ...\n",
      " $ image_url   : chr  \"\" \"\" \"\" \"\" ...\n",
      " $ description : chr  \"\" \"\" \"\" \"\" ...\n",
      " $ county      : logi  NA NA NA NA NA NA ...\n",
      " $ state       : chr  \"az\" \"ar\" \"fl\" \"ma\" ...\n",
      " $ lat         : num  NA NA NA NA NA NA NA NA NA NA ...\n",
      " $ long        : num  NA NA NA NA NA NA NA NA NA NA ...\n",
      " $ posting_date: chr  \"\" \"\" \"\" \"\" ...\n"
     ]
    }
   ],
   "source": [
    "str(myDF)"
   ]
  },
  {
   "cell_type": "markdown",
   "id": "b12272c5-993f-48ef-bcc2-1feaaaf4d601",
   "metadata": {},
   "source": [
    "This data-set has the some of each data type like numerical, character, interger, string and logical."
   ]
  },
  {
   "cell_type": "markdown",
   "id": "b456e57c-4a12-464b-999a-ef2df5af80c1",
   "metadata": {},
   "source": [
    "Our data-set is about vehicle manufacturing, models and condition...etc. This also gives the information of the country and states that they are made in."
   ]
  },
  {
   "cell_type": "markdown",
   "id": "fc601975-35ed-4680-a4e1-0273ee3cc047",
   "metadata": {},
   "source": [
    "## Question 2"
   ]
  },
  {
   "cell_type": "code",
   "execution_count": 4,
   "id": "a16336a1-1ef0-41e8-bc7c-49387db27497",
   "metadata": {},
   "outputs": [
    {
     "data": {
      "text/plain": [
       "  id        \n",
       "1 7222695916\n",
       "2 7218891961\n",
       "3 7221797935\n",
       "4 7222270760\n",
       "5 7210384030\n",
       "6 7222379453\n",
       "  url                                                                                         \n",
       "1 https://prescott.craigslist.org/cto/d/prescott-2010-ford-ranger/7222695916.html             \n",
       "2 https://fayar.craigslist.org/ctd/d/bentonville-2017-hyundai-elantra-se/7218891961.html      \n",
       "3 https://keys.craigslist.org/cto/d/summerland-key-2005-excursion/7221797935.html             \n",
       "4 https://worcester.craigslist.org/cto/d/west-brookfield-2002-honda-odyssey-ex/7222270760.html\n",
       "5 https://greensboro.craigslist.org/cto/d/trinity-1965-chevrolet-truck/7210384030.html        \n",
       "6 https://hudsonvalley.craigslist.org/cto/d/westtown-2007-ford-150/7222379453.html            \n",
       "  region                 region_url                          price year\n",
       "1 prescott               https://prescott.craigslist.org      6000 NA  \n",
       "2 fayetteville           https://fayar.craigslist.org        11900 NA  \n",
       "3 florida keys           https://keys.craigslist.org         21000 NA  \n",
       "4 worcester / central MA https://worcester.craigslist.org     1500 NA  \n",
       "5 greensboro             https://greensboro.craigslist.org    4900 NA  \n",
       "6 hudson valley          https://hudsonvalley.craigslist.org  1600 NA  \n",
       "  manufacturer model condition cylinders ... size type paint_color image_url\n",
       "1                                        ...                                \n",
       "2                                        ...                                \n",
       "3                                        ...                                \n",
       "4                                        ...                                \n",
       "5                                        ...                                \n",
       "6                                        ...                                \n",
       "  description county state lat long posting_date\n",
       "1             NA     az    NA  NA               \n",
       "2             NA     ar    NA  NA               \n",
       "3             NA     fl    NA  NA               \n",
       "4             NA     ma    NA  NA               \n",
       "5             NA     nc    NA  NA               \n",
       "6             NA     ny    NA  NA               "
      ]
     },
     "metadata": {},
     "output_type": "display_data"
    }
   ],
   "source": [
    "head(myDF)"
   ]
  },
  {
   "cell_type": "code",
   "execution_count": 5,
   "id": "c7b1f5c7-88f1-4951-869a-740b3832436d",
   "metadata": {},
   "outputs": [
    {
     "data": {
      "text/plain": [
       " [1]  TRUE  TRUE  TRUE  TRUE  TRUE  TRUE  TRUE  TRUE  TRUE  TRUE  TRUE  TRUE\n",
       "[13]  TRUE  TRUE  TRUE  TRUE  TRUE  TRUE  TRUE  TRUE  TRUE  TRUE  TRUE  TRUE\n",
       "[25]  TRUE  TRUE  TRUE FALSE FALSE FALSE FALSE FALSE FALSE FALSE FALSE FALSE\n",
       "[37] FALSE FALSE FALSE FALSE FALSE FALSE FALSE FALSE FALSE FALSE FALSE FALSE\n",
       "[49] FALSE FALSE"
      ]
     },
     "metadata": {},
     "output_type": "display_data"
    }
   ],
   "source": [
    "head(is.na(myDF$year), n= 50)"
   ]
  },
  {
   "cell_type": "code",
   "execution_count": 6,
   "id": "bf978910-514a-4e80-a026-7e6f58cf5021",
   "metadata": {},
   "outputs": [
    {
     "data": {
      "text/plain": [
       "[1] 1205"
      ]
     },
     "metadata": {},
     "output_type": "display_data"
    }
   ],
   "source": [
    "sum(is.na(myDF$year))"
   ]
  },
  {
   "cell_type": "markdown",
   "id": "abecdf00-81b2-4169-b97b-926b00fc4efd",
   "metadata": {},
   "source": [
    "the number of NAs in year column is 1205."
   ]
  },
  {
   "cell_type": "code",
   "execution_count": 14,
   "id": "4b560d93-c899-419f-a77d-eda2bcf791e2",
   "metadata": {},
   "outputs": [
    {
     "data": {
      "text/plain": [
       "[1] 0.002822807"
      ]
     },
     "metadata": {},
     "output_type": "display_data"
    }
   ],
   "source": [
    "sum(is.na(myDF$year)) / dim(myDF) [1]"
   ]
  },
  {
   "cell_type": "markdown",
   "id": "b1cf36c1-b34b-4e98-91b7-b10eaeb2f161",
   "metadata": {},
   "source": [
    "This is less than one percent (0.002822807)"
   ]
  },
  {
   "cell_type": "code",
   "execution_count": 22,
   "id": "6a57e882-4eaa-4cfb-ae28-4c210bd38d9b",
   "metadata": {},
   "outputs": [
    {
     "data": {
      "text/plain": [
       "[1] 426880     26"
      ]
     },
     "metadata": {},
     "output_type": "display_data"
    }
   ],
   "source": [
    "dim(myDF)"
   ]
  },
  {
   "cell_type": "code",
   "execution_count": 4,
   "id": "510f9790-bc3a-40de-bd87-584b9e8411f9",
   "metadata": {},
   "outputs": [],
   "source": [
    "goodlatitudeDF <- subset(myDF, !is.na(myDF$lat))"
   ]
  },
  {
   "cell_type": "code",
   "execution_count": 18,
   "id": "3a9f8773-c935-4a17-8134-89192a0214b5",
   "metadata": {},
   "outputs": [
    {
     "data": {
      "text/plain": [
       "[1] 420331     26"
      ]
     },
     "metadata": {},
     "output_type": "display_data"
    }
   ],
   "source": [
    "dim(goodlatitudeDF)"
   ]
  },
  {
   "cell_type": "code",
   "execution_count": 12,
   "id": "a66ee14f-1eef-468d-888e-88ef2ee4685c",
   "metadata": {},
   "outputs": [],
   "source": [
    "goodlatitudeDF <- subset(myDF, !is.na(lat))"
   ]
  },
  {
   "cell_type": "code",
   "execution_count": 17,
   "id": "ff8ba000-eb91-47f2-a31f-fdb844ded8f7",
   "metadata": {},
   "outputs": [
    {
     "data": {
      "text/plain": [
       "[1] 420331     26"
      ]
     },
     "metadata": {},
     "output_type": "display_data"
    }
   ],
   "source": [
    "dim(goodlatitudeDF)"
   ]
  },
  {
   "cell_type": "code",
   "execution_count": 39,
   "id": "6eb2a8f1-b2c0-436c-84e9-3bf6db88ff14",
   "metadata": {},
   "outputs": [],
   "source": [
    "goodlatitudeDF <- myDF[!is.na(myDF$lat), ]"
   ]
  },
  {
   "cell_type": "code",
   "execution_count": 24,
   "id": "017ed8ef-4e80-4c51-b8d4-b4abd15f6fe8",
   "metadata": {},
   "outputs": [
    {
     "data": {
      "text/plain": [
       "[1] 426880     26"
      ]
     },
     "metadata": {},
     "output_type": "display_data"
    }
   ],
   "source": [
    "dim(myDF)"
   ]
  },
  {
   "cell_type": "code",
   "execution_count": 40,
   "id": "e06d1880-d29d-4dab-9da1-04d27d94a1ba",
   "metadata": {},
   "outputs": [
    {
     "data": {
      "text/plain": [
       "[1] 420331     26"
      ]
     },
     "metadata": {},
     "output_type": "display_data"
    }
   ],
   "source": [
    "dim(goodlatitudeDF)"
   ]
  },
  {
   "cell_type": "code",
   "execution_count": 41,
   "id": "b998f4cd-6897-4f51-abba-74bf318b2108",
   "metadata": {},
   "outputs": [
    {
     "data": {
      "text/plain": [
       "   id        \n",
       "28 7316814884\n",
       "29 7316814758\n",
       "30 7316814989\n",
       "31 7316743432\n",
       "32 7316356412\n",
       "33 7316343444\n",
       "   url                                                                                       \n",
       "28 https://auburn.craigslist.org/ctd/d/auburn-university-2014-gmc-sierra-1500/7316814884.html\n",
       "29 https://auburn.craigslist.org/ctd/d/auburn-university-2010-chevy-chevrolet/7316814758.html\n",
       "30 https://auburn.craigslist.org/ctd/d/auburn-university-2020-chevy-chevrolet/7316814989.html\n",
       "31 https://auburn.craigslist.org/ctd/d/auburn-university-2017-toyota-tundra/7316743432.html  \n",
       "32 https://auburn.craigslist.org/cto/d/auburn-university-2013-150/7316356412.html            \n",
       "33 https://auburn.craigslist.org/ctd/d/auburn-university-2012-gmc-sierra-2500/7316343444.html\n",
       "   region region_url                    price year manufacturer\n",
       "28 auburn https://auburn.craigslist.org 33590 2014 gmc         \n",
       "29 auburn https://auburn.craigslist.org 22590 2010 chevrolet   \n",
       "30 auburn https://auburn.craigslist.org 39590 2020 chevrolet   \n",
       "31 auburn https://auburn.craigslist.org 30990 2017 toyota      \n",
       "32 auburn https://auburn.craigslist.org 15000 2013 ford        \n",
       "33 auburn https://auburn.craigslist.org 27990 2012 gmc         \n",
       "   model                       condition cylinders   ... size      type  \n",
       "28 sierra 1500 crew cab slt    good      8 cylinders ...           pickup\n",
       "29 silverado 1500              good      8 cylinders ...           pickup\n",
       "30 silverado 1500 crew         good      8 cylinders ...           pickup\n",
       "31 tundra double cab sr        good      8 cylinders ...           pickup\n",
       "32 f-150 xlt                   excellent 6 cylinders ... full-size truck \n",
       "33 sierra 2500 hd extended cab good      8 cylinders ...           pickup\n",
       "   paint_color\n",
       "28 white      \n",
       "29 blue       \n",
       "30 red        \n",
       "31 red        \n",
       "32 black      \n",
       "33 black      \n",
       "   image_url                                                          \n",
       "28 https://images.craigslist.org/00R0R_lwWjXSEWNa7z_0x20oM_600x450.jpg\n",
       "29 https://images.craigslist.org/00R0R_lwWjXSEWNa7z_0x20oM_600x450.jpg\n",
       "30 https://images.craigslist.org/01212_jjirIWa0y02z_0gw0co_600x450.jpg\n",
       "31 https://images.craigslist.org/00x0x_1y9kIOzGCFaz_0gw0co_600x450.jpg\n",
       "32 https://images.craigslist.org/00404_l4loxHvdQefz_0CI0t2_600x450.jpg\n",
       "33 https://images.craigslist.org/00V0V_ftJbKrOgdi5z_0gw0co_600x450.jpg\n",
       "   description                                                                                                                                                                                                                                                                                                                                                                                                                                                                                                                                                                                                                                                                                                                                                                                                                                                                                                                                                                                                                                                                                                                                                                                                                                                                                                                                                                                                                                                                                                                                                                                                                                                                                                                                                                                                                                                                                                                                                                                                                                                                                                                                                                                                                                                                                                                                                                                                                                                                                                                                                                                                                                                                                                                                                                                                                                                                                                                                                                                                                                                                                                                                                                                                                                                                                                                                                                                                                                                                                                                                                                                                                                                                                                                                                                                                                                                                                                                                                                                                                                                                                                                                                                                                                                                                                                                                                                                                                                                                                                                                                                                                                                                                                                                                                                                                                                                                                                                                                              \n",
       "28 Carvana is the safer way to buy a car During these uncertain times, Carvana is dedicated to ensuring safety for all of our customers. In addition to our 100% online shopping and selling experience that allows all customers to buy and trade their cars without ever leaving the safety of their house, we\\342\\200\\231re providing touchless delivery that make all aspects of our process even safer. Now, you can get the car you want, and trade in your old one, while avoiding person-to-person contact with our friendly advocates. There are some things that can\\342\\200\\231t be put off. And if buying a car is one of them, know that we\\342\\200\\231re doing everything we can to keep you keep moving while continuing to put your health safety, and happiness first. Vehicle Stock# 2000909557\\360\\237\\223\\261 Want to instantly check this car\\342\\200\\231s availability? Call us at  334-758-9176Just text that stock number to 855-976-4304 or head to http://www.carvanaauto.com/7171237-74502 and plug it into the search bar!Get PRE-QUALIFIED for your auto loan in 2 minutes - no hit to your credit:http://finance.carvanaauto.com/7171237-74502Looking for more cars like this one? We have 63 GMC Sierra 1500 Crew Cab in stock for as low as $23990!Why buy with Carvana? We have one standard: the highest. Take a look at just some of the qualifications all of our cars must meet before we list them.150-POINT INSPECTION: We put each vehicle through a 150-point inspection so that you can be 100% confident in its quality and safety. See everything that goes into our inspections at:http://www.carvanaauto.com/7171237-74502NO REPORTED ACCIDENTS: We do not sell cars that have been in a reported accident or have a frame or structural damage.7 DAY TEST OWN MONEY BACK GUARANTEE: Every Carvana car comes with a 7-day money-back guarantee. Why? It takes more than 15-minutes to make a decision on your next car. Learn more about test owning at http://about.carvanaauto.comFLEXIBLE FINANCING, TRADE INS WELCOME: We\\342\\200\\231re all about real-time financing without the middle man. Need financing? Pick a combination of down and monthly payments that work for you. Have a trade-in? We\\342\\200\\231ll give you a value in 2 minutes. Check out everything about our financing at:http://finance.carvanaauto.com/7171237-74502COST SAVINGS: Carvana's business model has fewer expenses and no bloated fees compared to your local dealership. See how much we can save you at http://about.carvanaauto.comPREMIUM DETAIL: We go the extra mile so that your car is looking as good as new. There are a lot of specifics that we won\\342\\200\\231t list here (we wash, clean, buff, paint, polish, wax, seal), but trust us that when your car arrives, it\\342\\200\\231s going to look sweet.Vehicle Info for Stock# 2000909557Trim: SLT Pickup 4D 5 3/4 ft pickupMileage: 57k milesExterior Color: WhiteInterior Color: Lt. BrownEngine: EcoTec3 5.3L Flex Fuel V8 355hp 383ft. lbs.Drive: Two Wheel DriveTransmission: VIN: 3GTP1VEC4EG551563Dealer Disclosure: Price excludes tax, title, and registration (which we handle for you).Disclaimer: You agree that by providing your phone number, Carvana, or Carvana\\342\\200\\231s authorized representatives*, may call and/or send text messages (including by using equipment to automatically dial telephone numbers) about your interest in a purchase, for marketing/sales purposes, or for any other servicing or informational purpose related to your account. You do not have to consent to receiving calls or texts to purchase from Carvana. While every reasonable effort is made to ensure the accuracy of the information for this GMC Sierra 1500 Crew Cab, we are not responsible for any errors or omissions contained in this ad. Please verify any information in question with Carvana at 334-758-9176*Including, but not limited to, Bridgecrest Credit Company, GO Financial and SilverRock Automotive.*GMC* *Sierra* *1500* *Crew* *Cab* *Base* *GMC* *Sierra* *1500* *Crew* *Cab* *SLE* *GMC* *Sierra* *1500* *Crew* *Cab* *SLT* *GMC* *Sierra* *1500* *Crew* *Cab* *Denali* *GMC* *Sierra* *1500* *Crew* *Cab* *Work* *Truck* *4x2* *GMC* *Sierra* *1500* *Crew* *Cab* *4x4* *Crew* *Cab* *GMC* *Sierra* *1500* *Crew* *Cab* *Regular* *Cab* *Extended* *Cab* *Truck* 2022  2021  2020  2019  2018  2017  2016  2015  2014  2013  2012  2011  2010  2009  2008  2007  2006  2005  2004  2003  2002  2001  2000   22  21    19  18  17  16  15  14  13  12  11  10  09  08  07  06  05  04  03  02  01  00                                                                                                                                                                                                                                                                                                                            \n",
       "29 Carvana is the safer way to buy a car During these uncertain times, Carvana is dedicated to ensuring safety for all of our customers. In addition to our 100% online shopping and selling experience that allows all customers to buy and trade their cars without ever leaving the safety of their house, we\\342\\200\\231re providing touchless delivery that make all aspects of our process even safer. Now, you can get the car you want, and trade in your old one, while avoiding person-to-person contact with our friendly advocates. There are some things that can\\342\\200\\231t be put off. And if buying a car is one of them, know that we\\342\\200\\231re doing everything we can to keep you keep moving while continuing to put your health safety, and happiness first. Vehicle Stock# 2000977114\\360\\237\\223\\261 Want to instantly check this car\\342\\200\\231s availability? Call us at  334-758-9176Just text that stock number to 855-976-4304 or head to http://www.carvanaauto.com/7163375-74502 and plug it into the search bar!Get PRE-QUALIFIED for your auto loan in 2 minutes - no hit to your credit:http://finance.carvanaauto.com/7163375-74502Looking for more cars like this one? We have 10 Chevrolet Silverado 1500 Extended Cab in stock for as low as $20990!Why buy with Carvana? We have one standard: the highest. Take a look at just some of the qualifications all of our cars must meet before we list them.150-POINT INSPECTION: We put each vehicle through a 150-point inspection so that you can be 100% confident in its quality and safety. See everything that goes into our inspections at:http://www.carvanaauto.com/7163375-74502NO REPORTED ACCIDENTS: We do not sell cars that have been in a reported accident or have a frame or structural damage.7 DAY TEST OWN MONEY BACK GUARANTEE: Every Carvana car comes with a 7-day money-back guarantee. Why? It takes more than 15-minutes to make a decision on your next car. Learn more about test owning at http://about.carvanaauto.comFLEXIBLE FINANCING, TRADE INS WELCOME: We\\342\\200\\231re all about real-time financing without the middle man. Need financing? Pick a combination of down and monthly payments that work for you. Have a trade-in? We\\342\\200\\231ll give you a value in 2 minutes. Check out everything about our financing at:http://finance.carvanaauto.com/7163375-74502COST SAVINGS: Carvana's business model has fewer expenses and no bloated fees compared to your local dealership. See how much we can save you at http://about.carvanaauto.comPREMIUM DETAIL: We go the extra mile so that your car is looking as good as new. There are a lot of specifics that we won\\342\\200\\231t list here (we wash, clean, buff, paint, polish, wax, seal), but trust us that when your car arrives, it\\342\\200\\231s going to look sweet.Vehicle Info for Stock# 2000977114Trim: LT Pickup 4D 6 1/2 ft pickupMileage: 71k milesExterior Color: BlueInterior Color: BlackEngine: Vortec 5.3L Flex Fuel V8 315hp 335ft. lbs.Drive: Two Wheel DriveTransmission: VIN: 1GCSCSE06AZ123805Dealer Disclosure: Price excludes tax, title, and registration (which we handle for you).Disclaimer: You agree that by providing your phone number, Carvana, or Carvana\\342\\200\\231s authorized representatives*, may call and/or send text messages (including by using equipment to automatically dial telephone numbers) about your interest in a purchase, for marketing/sales purposes, or for any other servicing or informational purpose related to your account. You do not have to consent to receiving calls or texts to purchase from Carvana. While every reasonable effort is made to ensure the accuracy of the information for this Chevrolet Silverado 1500 Extended Cab, we are not responsible for any errors or omissions contained in this ad. Please verify any information in question with Carvana at 334-758-9176*Including, but not limited to, Bridgecrest Credit Company, GO Financial and SilverRock Automotive.*Chevrolet* *Silverado* *1500* *Extended* *Cab* *Chevy* *Chevrolet* *Silverado* *1500* *Extended* *Cab* *HD* *Crew* *Cab* *LS* *Pickup* *Chevrolet* *Silverado* *1500* *Extended* *Cab* *LS* *Chevrolet* *Silverado* *1500* *Extended* *Cab* *LT* *Chevrolet* *Silverado* *1500* *Extended* *Cab* *LTZ* *Chevrolet* *Silverado* *1500* *Extended* *Cab* *LT1* *Chevrolet* *Silverado* *1500* *Extended* *Cab* *Crew* *Cab* *Chevrolet* *Silverado* *1500* *Extended* *Cab* *XtraCab* *Chevrolet* *Silverado* *1500* *Extended* *Cab* *2500HD* *Classic* *Pick* *up* 2022  2021  2020  2019  2018  2017  2016  2015  2014  2013  2012  2011  2010  2009  2008  2007  2006  2005  2004  2003  2002  2001  2000   22  21    19  18  17  16  15  14  13  12  11  10  09  08  07  06  05  04  03  02  01  00                                                                                                       \n",
       "30 Carvana is the safer way to buy a car During these uncertain times, Carvana is dedicated to ensuring safety for all of our customers. In addition to our 100% online shopping and selling experience that allows all customers to buy and trade their cars without ever leaving the safety of their house, we\\342\\200\\231re providing touchless delivery that make all aspects of our process even safer. Now, you can get the car you want, and trade in your old one, while avoiding person-to-person contact with our friendly advocates. There are some things that can\\342\\200\\231t be put off. And if buying a car is one of them, know that we\\342\\200\\231re doing everything we can to keep you keep moving while continuing to put your health safety, and happiness first. Vehicle Stock# 2000948059\\360\\237\\223\\261 Want to instantly check this car\\342\\200\\231s availability? Call us at  334-758-9176Just text that stock number to 855-976-4304 or head to http://www.carvanaauto.com/6965441-74502 and plug it into the search bar!Get PRE-QUALIFIED for your auto loan in 2 minutes - no hit to your credit:http://finance.carvanaauto.com/6965441-74502Looking for more cars like this one? We have 144 Chevrolet Silverado 1500 Crew Cab in stock for as low as $20990!Why buy with Carvana? We have one standard: the highest. Take a look at just some of the qualifications all of our cars must meet before we list them.150-POINT INSPECTION: We put each vehicle through a 150-point inspection so that you can be 100% confident in its quality and safety. See everything that goes into our inspections at:http://www.carvanaauto.com/6965441-74502NO REPORTED ACCIDENTS: We do not sell cars that have been in a reported accident or have a frame or structural damage.7 DAY TEST OWN MONEY BACK GUARANTEE: Every Carvana car comes with a 7-day money-back guarantee. Why? It takes more than 15-minutes to make a decision on your next car. Learn more about test owning at http://about.carvanaauto.comFLEXIBLE FINANCING, TRADE INS WELCOME: We\\342\\200\\231re all about real-time financing without the middle man. Need financing? Pick a combination of down and monthly payments that work for you. Have a trade-in? We\\342\\200\\231ll give you a value in 2 minutes. Check out everything about our financing at:http://finance.carvanaauto.com/6965441-74502COST SAVINGS: Carvana's business model has fewer expenses and no bloated fees compared to your local dealership. See how much we can save you at http://about.carvanaauto.comPREMIUM DETAIL: We go the extra mile so that your car is looking as good as new. There are a lot of specifics that we won\\342\\200\\231t list here (we wash, clean, buff, paint, polish, wax, seal), but trust us that when your car arrives, it\\342\\200\\231s going to look sweet.Vehicle Info for Stock# 2000948059Trim: LT Pickup 4D 5 3/4 ft pickupMileage: 19k milesExterior Color: RedInterior Color: BLACKEngine: EcoTec3 5.3L V8 355hp 383ft. lbs.Drive: Two Wheel DriveTransmission: VIN: 3GCPWCED5LG130317Dealer Disclosure: Price excludes tax, title, and registration (which we handle for you).Disclaimer: You agree that by providing your phone number, Carvana, or Carvana\\342\\200\\231s authorized representatives*, may call and/or send text messages (including by using equipment to automatically dial telephone numbers) about your interest in a purchase, for marketing/sales purposes, or for any other servicing or informational purpose related to your account. You do not have to consent to receiving calls or texts to purchase from Carvana. While every reasonable effort is made to ensure the accuracy of the information for this Chevrolet Silverado 1500 Crew Cab, we are not responsible for any errors or omissions contained in this ad. Please verify any information in question with Carvana at 334-758-9176*Including, but not limited to, Bridgecrest Credit Company, GO Financial and SilverRock Automotive.*Chevrolet* *Silverado* *1500* *Crew* *Cab* *Chevy* *Chevrolet* *Silverado* *1500* *Crew* *Cab* *HD* *Crew* *Cab* *LS* *Pickup* *Chevrolet* *Silverado* *1500* *Crew* *Cab* *LS* *Chevrolet* *Silverado* *1500* *Crew* *Cab* *LT* *Chevrolet* *Silverado* *1500* *Crew* *Cab* *LTZ* *Chevrolet* *Silverado* *1500* *Crew* *Cab* *LT1* *Chevrolet* *Silverado* *1500* *Crew* *Cab* *Crew* *Cab* *Chevrolet* *Silverado* *1500* *Crew* *Cab* *XtraCab* *Chevrolet* *Silverado* *1500* *Crew* *Cab* *2500HD* *Classic* *Pick* *up* 2022  2021  2020  2019  2018  2017  2016  2015  2014  2013  2012  2011  2010  2009  2008  2007  2006  2005  2004  2003  2002  2001  2000   22  21    19  18  17  16  15  14  13  12  11  10  09  08  07  06  05  04  03  02  01  00                                                                                                                                                            \n",
       "31 Carvana is the safer way to buy a car During these uncertain times, Carvana is dedicated to ensuring safety for all of our customers. In addition to our 100% online shopping and selling experience that allows all customers to buy and trade their cars without ever leaving the safety of their house, we\\342\\200\\231re providing touchless delivery that make all aspects of our process even safer. Now, you can get the car you want, and trade in your old one, while avoiding person-to-person contact with our friendly advocates. There are some things that can\\342\\200\\231t be put off. And if buying a car is one of them, know that we\\342\\200\\231re doing everything we can to keep you keep moving while continuing to put your health safety, and happiness first. Vehicle Stock# 2000905180\\360\\237\\223\\261 Want to instantly check this car\\342\\200\\231s availability? Call us at  334-758-9176Just text that stock number to 855-976-4304 or head to http://www.carvanaauto.com/6964121-74502 and plug it into the search bar!Get PRE-QUALIFIED for your auto loan in 2 minutes - no hit to your credit:http://finance.carvanaauto.com/6964121-74502Looking for more cars like this one? We have 24 Toyota Tundra Double Cab in stock for as low as $23990!Why buy with Carvana? We have one standard: the highest. Take a look at just some of the qualifications all of our cars must meet before we list them.150-POINT INSPECTION: We put each vehicle through a 150-point inspection so that you can be 100% confident in its quality and safety. See everything that goes into our inspections at:http://www.carvanaauto.com/6964121-74502NO REPORTED ACCIDENTS: We do not sell cars that have been in a reported accident or have a frame or structural damage.7 DAY TEST OWN MONEY BACK GUARANTEE: Every Carvana car comes with a 7-day money-back guarantee. Why? It takes more than 15-minutes to make a decision on your next car. Learn more about test owning at http://about.carvanaauto.comFLEXIBLE FINANCING, TRADE INS WELCOME: We\\342\\200\\231re all about real-time financing without the middle man. Need financing? Pick a combination of down and monthly payments that work for you. Have a trade-in? We\\342\\200\\231ll give you a value in 2 minutes. Check out everything about our financing at:http://finance.carvanaauto.com/6964121-74502COST SAVINGS: Carvana's business model has fewer expenses and no bloated fees compared to your local dealership. See how much we can save you at http://about.carvanaauto.comPREMIUM DETAIL: We go the extra mile so that your car is looking as good as new. There are a lot of specifics that we won\\342\\200\\231t list here (we wash, clean, buff, paint, polish, wax, seal), but trust us that when your car arrives, it\\342\\200\\231s going to look sweet.Vehicle Info for Stock# 2000905180Trim: SR Pickup 4D 6 1/2 ft pickupMileage: 41k milesExterior Color: RedInterior Color: GRAYEngine: 4.6L V8 310hp 327ft. lbs.Drive: Two Wheel DriveTransmission: VIN: 5TFRM5F17HX120972Dealer Disclosure: Price excludes tax, title, and registration (which we handle for you).Disclaimer: You agree that by providing your phone number, Carvana, or Carvana\\342\\200\\231s authorized representatives*, may call and/or send text messages (including by using equipment to automatically dial telephone numbers) about your interest in a purchase, for marketing/sales purposes, or for any other servicing or informational purpose related to your account. You do not have to consent to receiving calls or texts to purchase from Carvana. While every reasonable effort is made to ensure the accuracy of the information for this Toyota Tundra Double Cab, we are not responsible for any errors or omissions contained in this ad. Please verify any information in question with Carvana at 334-758-9176*Including, but not limited to, Bridgecrest Credit Company, GO Financial and SilverRock Automotive.*Toyota* *Tundra* *Double* *Cab* *2WD* *Truck* *Toyota* *Tundra* *Double* *Cab* *4WD* *Toyota* *Tundra* *Double* *Cab* *Access* *Cab* *Limited* *Toyota* *Tundra* *Double* *Cab* *Access* *Cab* *SR5* *Toyota* *Tundra* *Double* *Cab* *CrewMax* *Limited* *Toyota* *Tundra* *Double* *Cab* *CrewMax* *Toyota* *Tundra* *Double* *Cab* *CrewMax* *SR5* *Toyota* *Tundra* *Double* *Cab* *Double* *Cab* *Toyota* *Tundra* *Double* *Cab* *Double* *Cab* *Limited* *Toyota* *Tundra* *Double* *Cab* *Double* *Cab* *SR5* *Toyota* *Tundra* *Double* *Cab* *Regular* *Cab* *Toyota* *Tundra* *Double* *Cab* *SR* *Toyota* *Tundra* *Double* *Cab* *Platinum* *Toyota* *Tundra* *Double* *Cab* *electric* *hybrid* *Pickup* 2022  2021  2020  2019  2018  2017  2016  2015  2014  2013  2012  2011  2010  2009  2008  2007  2006  2005  2004  2003  2002  2001  2000   22  21    19  18  17  16  15  14  13  12  11  10  09  08  07  06  05  04  03  02  01  00\n",
       "32 2013 F-150 XLT V6 4 Door. Good condition. Leveling kit. New Tires.                                                                                                                                                                                                                                                                                                                                                                                                                                                                                                                                                                                                                                                                                                                                                                                                                                                                                                                                                                                                                                                                                                                                                                                                                                                                                                                                                                                                                                                                                                                                                                                                                                                                                                                                                                                                                                                                                                                                                                                                                                                                                                                                                                                                                                                                                                                                                                                                                                                                                                                                                                                                                                                                                                                                                                                                                                                                                                                                                                                                                                                                                                                                                                                                                                                                                                                                                                                                                                                                                                                                                                                                                                                                                                                                                                                                                                                                                                                                                                                                                                                                                                                                                                                                                                                                                                                                                                                                                                                                                                                                                                                                                                                                                                                                                                                                                                                                                                       \n",
       "33 Carvana is the safer way to buy a car During these uncertain times, Carvana is dedicated to ensuring safety for all of our customers. In addition to our 100% online shopping and selling experience that allows all customers to buy and trade their cars without ever leaving the safety of their house, we\\342\\200\\231re providing touchless delivery that make all aspects of our process even safer. Now, you can get the car you want, and trade in your old one, while avoiding person-to-person contact with our friendly advocates. There are some things that can\\342\\200\\231t be put off. And if buying a car is one of them, know that we\\342\\200\\231re doing everything we can to keep you keep moving while continuing to put your health safety, and happiness first. Vehicle Stock# 2000839840\\360\\237\\223\\261 Want to instantly check this car\\342\\200\\231s availability? Call us at  334-758-9176Just text that stock number to 855-976-4304 or head to http://www.carvanaauto.com/7164202-74502 and plug it into the search bar!Get PRE-QUALIFIED for your auto loan in 2 minutes - no hit to your credit:http://finance.carvanaauto.com/7164202-74502Looking for more cars like this one? We have 1 GMC Sierra 2500 HD Extended Cab in stock for as low as $27990!Why buy with Carvana? We have one standard: the highest. Take a look at just some of the qualifications all of our cars must meet before we list them.150-POINT INSPECTION: We put each vehicle through a 150-point inspection so that you can be 100% confident in its quality and safety. See everything that goes into our inspections at:http://www.carvanaauto.com/7164202-74502NO REPORTED ACCIDENTS: We do not sell cars that have been in a reported accident or have a frame or structural damage.7 DAY TEST OWN MONEY BACK GUARANTEE: Every Carvana car comes with a 7-day money-back guarantee. Why? It takes more than 15-minutes to make a decision on your next car. Learn more about test owning at http://about.carvanaauto.comFLEXIBLE FINANCING, TRADE INS WELCOME: We\\342\\200\\231re all about real-time financing without the middle man. Need financing? Pick a combination of down and monthly payments that work for you. Have a trade-in? We\\342\\200\\231ll give you a value in 2 minutes. Check out everything about our financing at:http://finance.carvanaauto.com/7164202-74502COST SAVINGS: Carvana's business model has fewer expenses and no bloated fees compared to your local dealership. See how much we can save you at http://about.carvanaauto.comPREMIUM DETAIL: We go the extra mile so that your car is looking as good as new. There are a lot of specifics that we won\\342\\200\\231t list here (we wash, clean, buff, paint, polish, wax, seal), but trust us that when your car arrives, it\\342\\200\\231s going to look sweet.Vehicle Info for Stock# 2000839840Trim: SLE Pickup 4D 6 1/2 ft pickupMileage: 68k milesExterior Color: BlackInterior Color: BLACKEngine: 6.0L V8 360hp 380ft. lbs.Drive: 4wdTransmission: Automatic, 6-Spd HD w/OverdriveVIN: 1GT220CG8CZ231238Dealer Disclosure: Price excludes tax, title, and registration (which we handle for you).Disclaimer: You agree that by providing your phone number, Carvana, or Carvana\\342\\200\\231s authorized representatives*, may call and/or send text messages (including by using equipment to automatically dial telephone numbers) about your interest in a purchase, for marketing/sales purposes, or for any other servicing or informational purpose related to your account. You do not have to consent to receiving calls or texts to purchase from Carvana. While every reasonable effort is made to ensure the accuracy of the information for this GMC Sierra 2500 HD Extended Cab, we are not responsible for any errors or omissions contained in this ad. Please verify any information in question with Carvana at 334-758-9176*Including, but not limited to, Bridgecrest Credit Company, GO Financial and SilverRock Automotive.*GMC* *Sierra* *2500* *HD* *Extended* *Cab* *Base* *GMC* *Sierra* *2500* *HD* *Extended* *Cab* *SLE* *GMC* *Sierra* *2500* *HD* *Extended* *Cab* *SLT* *GMC* *Sierra* *2500* *HD* *Extended* *Cab* *Denali* *GMC* *Sierra* *2500* *HD* *Extended* *Cab* *Work* *Truck* *4x2* *GMC* *Sierra* *2500* *HD* *Extended* *Cab* *4x4* *Crew* *Cab* *GMC* *Sierra* *2500* *HD* *Extended* *Cab* *Regular* *Cab* *Extended* *Cab* *Truck* 2022  2021  2020  2019  2018  2017  2016  2015  2014  2013  2012  2011  2010  2009  2008  2007  2006  2005  2004  2003  2002  2001  2000   22  21    19  18  17  16  15  14  13  12  11  10  09  08  07  06  05  04  03  02  01  00                                                                                                                                                                                                                                                   \n",
       "   county state lat    long     posting_date            \n",
       "28 NA     al    32.590 -85.4800 2021-05-04T12:31:18-0500\n",
       "29 NA     al    32.590 -85.4800 2021-05-04T12:31:08-0500\n",
       "30 NA     al    32.590 -85.4800 2021-05-04T12:31:25-0500\n",
       "31 NA     al    32.590 -85.4800 2021-05-04T10:41:31-0500\n",
       "32 NA     al    32.592 -85.5189 2021-05-03T14:02:03-0500\n",
       "33 NA     al    32.590 -85.4800 2021-05-03T13:41:25-0500"
      ]
     },
     "metadata": {},
     "output_type": "display_data"
    }
   ],
   "source": [
    "head(goodlatitudeDF)"
   ]
  },
  {
   "cell_type": "markdown",
   "id": "4cc91de5-4cb7-4a69-a1b2-b8a64e8c0f73",
   "metadata": {},
   "source": [
    "    county state lat    long     posting_date            \n",
    "28 NA     al    32.590 -85.4800 2021-05-04T12:31:18-0500\n",
    "29 NA     al    32.590 -85.4800 2021-05-04T12:31:08-0500\n",
    "30 NA     al    32.590 -85.4800 2021-05-04T12:31:25-0500\n",
    "31 NA     al    32.590 -85.4800 2021-05-04T10:41:31-0500\n",
    "32 NA     al    32.592 -85.5189 2021-05-03T14:02:03-0500\n",
    "33 NA     al    32.590 -85.4800 2021-05-03T13:41:25-0500"
   ]
  },
  {
   "cell_type": "code",
   "execution_count": 27,
   "id": "bd294af9-444b-4f47-b656-4aa7c946f8cd",
   "metadata": {},
   "outputs": [],
   "source": [
    "missinglatitudeDF <- subset(myDF, is.na(myDF$lat))"
   ]
  },
  {
   "cell_type": "code",
   "execution_count": 29,
   "id": "58ce341d-f341-49d5-85af-35d6ad861400",
   "metadata": {},
   "outputs": [
    {
     "data": {
      "text/plain": [
       "[1] 6549   26"
      ]
     },
     "metadata": {},
     "output_type": "display_data"
    }
   ],
   "source": [
    "dim(missinglatitudeDF)"
   ]
  },
  {
   "cell_type": "code",
   "execution_count": 31,
   "id": "d1a0d015-6a0e-4e60-b296-94c31a5ada98",
   "metadata": {},
   "outputs": [],
   "source": [
    "missinglatitudeDF <- subset(myDF, is.na(lat))"
   ]
  },
  {
   "cell_type": "code",
   "execution_count": 33,
   "id": "c4d95ef6-e1ff-4cea-beaa-b247a344e6a1",
   "metadata": {},
   "outputs": [
    {
     "data": {
      "text/plain": [
       "[1] 6549   26"
      ]
     },
     "metadata": {},
     "output_type": "display_data"
    }
   ],
   "source": [
    "dim(missinglatitudeDF)"
   ]
  },
  {
   "cell_type": "code",
   "execution_count": 4,
   "id": "70c8e235-ea74-40b8-82c2-87926fcb555e",
   "metadata": {},
   "outputs": [],
   "source": [
    "missinglatitudeDF <- myDF[is.na(myDF$lat), ]"
   ]
  },
  {
   "cell_type": "code",
   "execution_count": 5,
   "id": "cde8d7bc-0411-4542-b68e-ecedf29ab749",
   "metadata": {},
   "outputs": [
    {
     "data": {
      "text/plain": [
       "[1] 6549   26"
      ]
     },
     "metadata": {},
     "output_type": "display_data"
    }
   ],
   "source": [
    "dim(missinglatitudeDF)"
   ]
  },
  {
   "cell_type": "code",
   "execution_count": 6,
   "id": "88e4b331-d1ab-4852-a493-96fdecab4c5c",
   "metadata": {},
   "outputs": [
    {
     "data": {
      "text/plain": [
       "  id        \n",
       "1 7222695916\n",
       "2 7218891961\n",
       "3 7221797935\n",
       "4 7222270760\n",
       "5 7210384030\n",
       "6 7222379453\n",
       "  url                                                                                         \n",
       "1 https://prescott.craigslist.org/cto/d/prescott-2010-ford-ranger/7222695916.html             \n",
       "2 https://fayar.craigslist.org/ctd/d/bentonville-2017-hyundai-elantra-se/7218891961.html      \n",
       "3 https://keys.craigslist.org/cto/d/summerland-key-2005-excursion/7221797935.html             \n",
       "4 https://worcester.craigslist.org/cto/d/west-brookfield-2002-honda-odyssey-ex/7222270760.html\n",
       "5 https://greensboro.craigslist.org/cto/d/trinity-1965-chevrolet-truck/7210384030.html        \n",
       "6 https://hudsonvalley.craigslist.org/cto/d/westtown-2007-ford-150/7222379453.html            \n",
       "  region                 region_url                          price year\n",
       "1 prescott               https://prescott.craigslist.org      6000 NA  \n",
       "2 fayetteville           https://fayar.craigslist.org        11900 NA  \n",
       "3 florida keys           https://keys.craigslist.org         21000 NA  \n",
       "4 worcester / central MA https://worcester.craigslist.org     1500 NA  \n",
       "5 greensboro             https://greensboro.craigslist.org    4900 NA  \n",
       "6 hudson valley          https://hudsonvalley.craigslist.org  1600 NA  \n",
       "  manufacturer model condition cylinders ... size type paint_color image_url\n",
       "1                                        ...                                \n",
       "2                                        ...                                \n",
       "3                                        ...                                \n",
       "4                                        ...                                \n",
       "5                                        ...                                \n",
       "6                                        ...                                \n",
       "  description county state lat long posting_date\n",
       "1             NA     az    NA  NA               \n",
       "2             NA     ar    NA  NA               \n",
       "3             NA     fl    NA  NA               \n",
       "4             NA     ma    NA  NA               \n",
       "5             NA     nc    NA  NA               \n",
       "6             NA     ny    NA  NA               "
      ]
     },
     "metadata": {},
     "output_type": "display_data"
    }
   ],
   "source": [
    "head(missinglatitudeDF)"
   ]
  },
  {
   "cell_type": "markdown",
   "id": "47c6229f-35f7-400c-8366-c442baa5cf47",
   "metadata": {},
   "source": [
    "  description county state lat long posting_date\n",
    "1             NA     az    NA  NA               \n",
    "2             NA     ar    NA  NA               \n",
    "3             NA     fl    NA  NA               \n",
    "4             NA     ma    NA  NA               \n",
    "5             NA     nc    NA  NA               \n",
    "6             NA     ny    NA  NA    "
   ]
  },
  {
   "cell_type": "markdown",
   "id": "d648ac78-38a7-4f44-8fe9-5bae9152f060",
   "metadata": {
    "tags": []
   },
   "source": [
    "## Question 3"
   ]
  },
  {
   "cell_type": "code",
   "execution_count": 10,
   "id": "a0460ecc-daa2-452c-bf64-ac3031c27359",
   "metadata": {},
   "outputs": [
    {
     "data": {
      "text/plain": [
       "   type        price     \n",
       "1              204624.532\n",
       "2  SUV          34434.048\n",
       "3  bus          14105.617\n",
       "4  convertible  19999.774\n",
       "5  coupe        21937.563\n",
       "6  hatchback    14384.513\n",
       "7  mini-van      9234.088\n",
       "8  offroad      15813.094\n",
       "9  other        24743.588\n",
       "10 pickup      144751.640\n",
       "11 sedan        15950.185\n",
       "12 truck        29383.578\n",
       "13 van          17487.597\n",
       "14 wagon        13273.910"
      ]
     },
     "metadata": {},
     "output_type": "display_data"
    }
   ],
   "source": [
    "aggregate(price ~ type, data = myDF, FUN = mean)"
   ]
  },
  {
   "cell_type": "code",
   "execution_count": 6,
   "id": "119519e0-fbbc-4db7-8a6b-c30931996e45",
   "metadata": {},
   "outputs": [
    {
     "data": {
      "text/plain": [
       "    year price      \n",
       "95  2003   24268.185\n",
       "96  2004    7505.400\n",
       "97  2005    7950.689\n",
       "98  2006  105032.821\n",
       "99  2007  261162.517\n",
       "100 2008   16993.552\n",
       "101 2009    9071.533\n",
       "102 2010   10252.555\n",
       "103 2011   12503.809\n",
       "104 2012   14089.052\n",
       "105 2013   14748.418\n",
       "106 2014   17144.156\n",
       "107 2015   23408.126\n",
       "108 2016   21495.990\n",
       "109 2017   23970.339\n",
       "110 2018   26368.606\n",
       "111 2019   32975.532\n",
       "112 2020   91897.715\n",
       "113 2021 1338055.311\n",
       "114 2022   27367.053"
      ]
     },
     "metadata": {},
     "output_type": "display_data"
    }
   ],
   "source": [
    "subset(aggregate(price ~ year, data = myDF, FUN = mean), year>2002)"
   ]
  },
  {
   "cell_type": "markdown",
   "id": "f46f5ee6-82d6-4031-9368-cb63beb18a79",
   "metadata": {},
   "source": [
    "    year price      \n",
    "95  2003   24268.185\n",
    "96  2004    7505.400\n",
    "97  2005    7950.689\n",
    "98  2006  105032.821\n",
    "99  2007  261162.517\n",
    "100 2008   16993.552\n",
    "101 2009    9071.533\n",
    "102 2010   10252.555\n",
    "103 2011   12503.809\n",
    "104 2012   14089.052\n",
    "105 2013   14748.418\n",
    "106 2014   17144.156\n",
    "107 2015   23408.126\n",
    "108 2016   21495.990\n",
    "109 2017   23970.339\n",
    "110 2018   26368.606\n",
    "111 2019   32975.532\n",
    "112 2020   91897.715\n",
    "113 2021 1338055.311\n",
    "114 2022   27367.053"
   ]
  },
  {
   "cell_type": "code",
   "execution_count": 18,
   "id": "a41aa3d0-c9f2-4b8c-811e-40def06d1799",
   "metadata": {},
   "outputs": [
    {
     "data": {
      "text/plain": [
       "\n",
       " 1900  1901  1902  1903  1905  1909  1910  1913  1915  1916  1918  1920  1921 \n",
       "   12     3     1    12     1     1     2     2     1     2     1     2     2 \n",
       " 1922  1923  1924  1925  1926  1927  1928  1929  1930  1931  1932  1933  1934 \n",
       "    3    36     9     8    16    37    38    57    68    58    57    25    44 \n",
       " 1935  1936  1937  1938  1939  1940  1941  1942  1943  1944  1945  1946  1947 \n",
       "   23    43    70    38    54    81    67    15     1     3     2    58    71 \n",
       " 1948  1949  1950  1951  1952  1953  1954  1955  1956  1957  1958  1959  1960 \n",
       "  100    89   106    98   110   105   100   226   160   174    73    93   120 \n",
       " 1961  1962  1963  1964  1965  1966  1967  1968  1969  1970  1971  1972  1973 \n",
       "   82   138   234   270   365   424   357   425   409   345   312   409   334 \n",
       " 1974  1975  1976  1977  1978  1979  1980  1981  1982  1983  1984  1985  1986 \n",
       "  280   204   242   273   345   387   272   214   217   257   387   469   523 \n",
       " 1987  1988  1989  1990  1991  1992  1993  1994  1995  1996  1997  1998  1999 \n",
       "  532   528   571   599   608   626   712   968  1246  1302  1724  1988  3094 \n",
       " 2000  2001  2002  2003  2004  2005  2006  2007  2008  2009  2010  2011  2012 \n",
       " 3572  4443  5587  7151  8971 10622 12763 14873 17150 12185 15829 20341 23898 \n",
       " 2013  2014  2015  2016  2017  2018  2019  2020  2021  2022 \n",
       "30794 30283 31538 30434 36420 36369 25375 19298  2396   133 "
      ]
     },
     "metadata": {},
     "output_type": "display_data"
    }
   ],
   "source": [
    "table(myDF$year)"
   ]
  },
  {
   "cell_type": "code",
   "execution_count": 20,
   "id": "9ade4da3-aede-4d21-a4cc-37699441b099",
   "metadata": {},
   "outputs": [
    {
     "data": {
      "text/plain": [
       "2017 \n",
       " 109 "
      ]
     },
     "metadata": {},
     "output_type": "display_data"
    }
   ],
   "source": [
    "which.max(table(myDF$year))"
   ]
  },
  {
   "cell_type": "code",
   "execution_count": 23,
   "id": "1df27558-3bb3-43cc-88cc-5cb298defe97",
   "metadata": {},
   "outputs": [
    {
     "data": {
      "text/plain": [
       "[1] 114"
      ]
     },
     "metadata": {},
     "output_type": "display_data"
    }
   ],
   "source": [
    "length(table(myDF$year))"
   ]
  },
  {
   "cell_type": "code",
   "execution_count": 21,
   "id": "14aed2f0-f238-49f0-b918-6eb1ada23071",
   "metadata": {},
   "outputs": [
    {
     "data": {
      "text/plain": [
       " 2017 \n",
       "36420 "
      ]
     },
     "metadata": {},
     "output_type": "display_data"
    }
   ],
   "source": [
    "table(myDF$year)[which.max(table(myDF$year))]"
   ]
  },
  {
   "cell_type": "markdown",
   "id": "640ef10e-b42d-4d8c-a5ed-d5a82784d1a6",
   "metadata": {},
   "source": [
    "The year 2017 has the highest number of cars which is 36420."
   ]
  },
  {
   "cell_type": "markdown",
   "id": "da22f29c-d245-4d2b-9fc1-ca14cb6087d9",
   "metadata": {},
   "source": [
    "## Question 4"
   ]
  },
  {
   "cell_type": "code",
   "execution_count": 8,
   "id": "8cffc767-d1c8-4d64-b7dc-f0d2ee8a80d1",
   "metadata": {},
   "outputs": [
    {
     "data": {
      "text/plain": [
       "\n",
       "https://spokane.craigslist.org \n",
       "                          2988 "
      ]
     },
     "metadata": {},
     "output_type": "display_data"
    }
   ],
   "source": [
    "tail(sort(table(myDF$region_url)), n = 1)"
   ]
  },
  {
   "cell_type": "markdown",
   "id": "7164265c-1705-4f74-aa88-edd5d742b7fd",
   "metadata": {},
   "source": [
    "the most popular region_url is \" https://spokane.craigslist.org \n",
    "                          2988\""
   ]
  },
  {
   "cell_type": "code",
   "execution_count": 13,
   "id": "9a564c92-95c7-4858-baf1-ae12afd5abe7",
   "metadata": {},
   "outputs": [
    {
     "data": {
      "text/plain": [
       "\n",
       "   tx    fl    ca \n",
       "22945 28511 50614 "
      ]
     },
     "metadata": {},
     "output_type": "display_data"
    }
   ],
   "source": [
    "tail(sort(table(myDF$state)), n = 3)"
   ]
  },
  {
   "cell_type": "markdown",
   "id": "0d552245-b4d6-474a-9cc9-fa7b8e674d55",
   "metadata": {},
   "source": [
    "The most popular states in the criaglist are in ascending order as follows:   tx    fl    ca \n",
    "22945 28511 50614 "
   ]
  },
  {
   "cell_type": "markdown",
   "id": "88c9cdac-3e92-498f-83fa-e089bfc44ac8",
   "metadata": {},
   "source": [
    "## Question 5"
   ]
  },
  {
   "cell_type": "code",
   "execution_count": 19,
   "id": "d370d7c9-06db-42b9-b75f-240481a5c491",
   "metadata": {},
   "outputs": [],
   "source": [
    "myyears <- subset(aggregate(price ~ year, data = myDF, FUN = mean), year>2002)$year"
   ]
  },
  {
   "cell_type": "code",
   "execution_count": 20,
   "id": "1fad1f80-faf3-467c-907a-1fd4dacfb94a",
   "metadata": {},
   "outputs": [],
   "source": [
    "myprices <- subset(aggregate(price ~ year, data = myDF, FUN = mean), year>2002)$price"
   ]
  },
  {
   "cell_type": "code",
   "execution_count": 22,
   "id": "53f3714a-52fb-49ed-b0e4-6f80ff448b12",
   "metadata": {},
   "outputs": [
    {
     "data": {
      "image/png": "[encoded data removed]",
      "text/plain": [
       "plot without title"
      ]
     },
     "metadata": {
      "image/png": {
       "height": 420,
       "width": 420
      }
     },
     "output_type": "display_data"
    }
   ],
   "source": [
    "plot(myyears, myprices)"
   ]
  },
  {
   "cell_type": "code",
   "execution_count": 25,
   "id": "074a58cd-ad1d-431c-a092-6beda329afb0",
   "metadata": {},
   "outputs": [
    {
     "data": {
      "image/png": "[encoded data removed]",
      "text/plain": [
       "plot without title"
      ]
     },
     "metadata": {
      "image/png": {
       "height": 420,
       "width": 420
      }
     },
     "output_type": "display_data"
    }
   ],
   "source": [
    "plot(myyears[myprices<50000], myprices[myprices<50000])"
   ]
  },
  {
   "cell_type": "markdown",
   "id": "9fbf00fb-2418-460f-ae94-2a32b0c28952",
   "metadata": {},
   "source": [
    "There was almost a linear rise in the average price of vehicle from the one year before 2010 to 2021 but there was a sudden fall in the price of vehicles in the year 2022. The prices were in unpridtable pattern before the year 2010 minus one. Overall, there is no specific consistancy in average prices of the vehicles."
   ]
  },
  {
   "cell_type": "markdown",
   "id": "f76442d6-d02e-4f26-b9d6-c3183e1d6929",
   "metadata": {},
   "source": [
    "## Pledge\n",
    "\n",
    "By submitting this work I hereby pledge that this is my own, personal work. I've acknowledged in the designated place at the top of this file all sources that I used to complete said work, including but not limited to: online resources, books, and electronic communications. I've noted all collaboration with fellow students and/or TA's. I did not copy or plagiarize another's work.\n",
    "\n",
    "> As a Boilermaker pursuing academic excellence, I pledge to be honest and true in all that I do. Accountable together – We are Purdue."
   ]
  }
 ],
 "metadata": {
  "kernelspec": {
   "display_name": "seminar-r",
   "language": "R",
   "name": "seminar-r"
  },
  "language_info": {
   "codemirror_mode": "r",
   "file_extension": ".r",
   "mimetype": "text/x-r-source",
   "name": "R",
   "pygments_lexer": "r",
   "version": "4.3.1"
  }
 },
 "nbformat": 4,
 "nbformat_minor": 5
}
