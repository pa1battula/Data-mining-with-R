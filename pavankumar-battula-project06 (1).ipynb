{
 "cells": [
  {
   "cell_type": "markdown",
   "id": "be02a957-7133-4d02-818e-fedeb3cecb05",
   "metadata": {},
   "source": [
    "# Project 06 -- [pavan kumar] [battula]"
   ]
  },
  {
   "cell_type": "markdown",
   "id": "a1228853-dd19-4ab2-89e0-0394d7d72de3",
   "metadata": {},
   "source": [
    "**TA Help:** N/A\n",
    "\n",
    "\n",
    "    \n",
    "**Collaboration:** N/A\n",
    "    "
   ]
  },
  {
   "cell_type": "markdown",
   "id": "6180e742-8e39-4698-98ff-5b00c8cf8ea0",
   "metadata": {},
   "source": [
    "## Question 1"
   ]
  },
  {
   "cell_type": "code",
   "execution_count": 5,
   "id": "49445606-d363-41b4-b479-e319a9a84c01",
   "metadata": {},
   "outputs": [],
   "source": [
    "options(jupyter.rich_display = F)"
   ]
  },
  {
   "cell_type": "code",
   "execution_count": 4,
   "id": "cb1aa8af-4301-4270-81e2-03ce38bd0a1a",
   "metadata": {},
   "outputs": [],
   "source": [
    "options(repr.matrix.max.cols= 50, repr.matrix.max.rows= 200)"
   ]
  },
  {
   "cell_type": "code",
   "execution_count": 104,
   "id": "48387da4-4280-4362-83b9-0dd6d258a76f",
   "metadata": {},
   "outputs": [],
   "source": [
    "myDF <- read.csv(\"/anvil/projects/tdm/data/olympics/athlete_events.csv\", stringsAsFactors=TRUE)"
   ]
  },
  {
   "cell_type": "code",
   "execution_count": 4,
   "id": "f77818be-077c-462a-bbc7-693fa2c9438b",
   "metadata": {},
   "outputs": [
    {
     "data": {
      "text/plain": [
       "\n",
       "1896 Summer 1900 Summer 1904 Summer 1906 Summer 1908 Summer 1912 Summer \n",
       "        380        1936        1301        1733        3101        4040 \n",
       "1920 Summer 1924 Summer 1924 Winter 1928 Summer 1928 Winter 1932 Summer \n",
       "       4292        5233         460        4992         582        2969 \n",
       "1932 Winter 1936 Summer 1936 Winter 1948 Summer 1948 Winter 1952 Summer \n",
       "        352        6506         895        6405        1075        8270 \n",
       "1952 Winter 1956 Summer 1956 Winter 1960 Summer 1960 Winter 1964 Summer \n",
       "       1088        5127        1307        8119        1116        7702 \n",
       "1964 Winter 1968 Summer 1968 Winter 1972 Summer 1972 Winter 1976 Summer \n",
       "       1778        8588        1891       10304        1655        8641 \n",
       "1976 Winter 1980 Summer 1980 Winter 1984 Summer 1984 Winter 1988 Summer \n",
       "       1861        7191        1746        9454        2134       12037 \n",
       "1988 Winter 1992 Summer 1992 Winter 1994 Winter 1996 Summer 1998 Winter \n",
       "       2639       12977        3436        3160       13780        3605 \n",
       "2000 Summer 2002 Winter 2004 Summer 2006 Winter 2008 Summer 2010 Winter \n",
       "      13821        4109       13443        4382       13602        4402 \n",
       "2012 Summer 2014 Winter 2016 Summer \n",
       "      12920        4891       13688 "
      ]
     },
     "metadata": {},
     "output_type": "display_data"
    }
   ],
   "source": [
    "table(myDF$Games)"
   ]
  },
  {
   "cell_type": "code",
   "execution_count": 61,
   "id": "381b4979-28a9-4f4d-bd86-c97710611042",
   "metadata": {},
   "outputs": [],
   "source": [
    "mysmallerDF  <- table(myDF$Team [myDF$Year == 1980])"
   ]
  },
  {
   "cell_type": "code",
   "execution_count": 69,
   "id": "9852d3bc-25b7-4a86-84a5-49cbecb01866",
   "metadata": {},
   "outputs": [
    {
     "data": {
      "text/plain": [
       "\n",
       "Afghanistan     Algeria     Andorra      Angola   Argentina   Australia \n",
       "         11          63          11          17          26         209 "
      ]
     },
     "metadata": {},
     "output_type": "display_data"
    }
   ],
   "source": [
    "head(mysmallerDF[mysmallerDF > 0])"
   ]
  },
  {
   "cell_type": "code",
   "execution_count": 73,
   "id": "9e0f3a4e-79b1-4bb8-a199-1ea295bffec3",
   "metadata": {},
   "outputs": [],
   "source": [
    "athletes_more_than_once <- subset(myDF, ave(Year, NOC, FUN = length) > 1)"
   ]
  },
  {
   "cell_type": "markdown",
   "id": "fc601975-35ed-4680-a4e1-0273ee3cc047",
   "metadata": {},
   "source": [
    "## Question 2"
   ]
  },
  {
   "cell_type": "code",
   "execution_count": 79,
   "id": "a16336a1-1ef0-41e8-bc7c-49387db27497",
   "metadata": {},
   "outputs": [],
   "source": [
    "avg_age_by_country <- tapply(myDF$Age, myDF$Team, FUN = mean, na.rm = TRUE)"
   ]
  },
  {
   "cell_type": "code",
   "execution_count": 80,
   "id": "e1e35984-5b78-4f28-8830-dae570554c3a",
   "metadata": {},
   "outputs": [],
   "source": [
    "avg_age_by_country <- data.frame(Team = names(avg_age_by_country), AverageAge = avg_age_by_country)"
   ]
  },
  {
   "cell_type": "code",
   "execution_count": 81,
   "id": "fb4fbb33-82a4-45bf-83eb-bf3266d2ea7c",
   "metadata": {},
   "outputs": [
    {
     "data": {
      "text/plain": [
       "                      Team                  AverageAge\n",
       "30. Februar           30. Februar           33.50000  \n",
       "A North American Team A North American Team 41.33333  \n",
       "Acipactli             Acipactli             47.33333  \n",
       "Acturus               Acturus               27.00000  \n",
       "Afghanistan           Afghanistan           23.53846  \n",
       "Akatonbo              Akatonbo              40.33333  "
      ]
     },
     "metadata": {},
     "output_type": "display_data"
    }
   ],
   "source": [
    "head(avg_age_by_country)"
   ]
  },
  {
   "cell_type": "code",
   "execution_count": 105,
   "id": "d0faaaf1-4daa-4b36-a430-e59d9d3c91d9",
   "metadata": {},
   "outputs": [
    {
     "name": "stderr",
     "output_type": "stream",
     "text": [
      "Warning message in FUN(X[[i]], ...):\n",
      "\"no non-missing arguments to max; returning -Inf\"\n",
      "Warning message in FUN(X[[i]], ...):\n",
      "\"no non-missing arguments to max; returning -Inf\"\n",
      "Warning message in FUN(X[[i]], ...):\n",
      "\"no non-missing arguments to max; returning -Inf\"\n",
      "Warning message in FUN(X[[i]], ...):\n",
      "\"no non-missing arguments to max; returning -Inf\"\n",
      "Warning message in FUN(X[[i]], ...):\n",
      "\"no non-missing arguments to max; returning -Inf\"\n",
      "Warning message in FUN(X[[i]], ...):\n",
      "\"no non-missing arguments to max; returning -Inf\"\n",
      "Warning message in FUN(X[[i]], ...):\n",
      "\"no non-missing arguments to max; returning -Inf\"\n"
     ]
    }
   ],
   "source": [
    "max_height_by_sport <- tapply(myDF$Height, myDF$Sport, FUN = max, na.rm = TRUE)"
   ]
  },
  {
   "cell_type": "code",
   "execution_count": 106,
   "id": "8206b576-09c7-4f09-87ca-2dd90d341509",
   "metadata": {},
   "outputs": [],
   "source": [
    "max_height_by_sport_sorted <- sort(max_height_by_sport, decreasing = TRUE)"
   ]
  },
  {
   "cell_type": "code",
   "execution_count": 107,
   "id": "6658345f-d679-4d08-a69a-625a0fd45ecf",
   "metadata": {},
   "outputs": [
    {
     "data": {
      "text/plain": [
       "Basketball Volleyball   Handball  Wrestling       Judo \n",
       "       226        219        214        214        213 "
      ]
     },
     "metadata": {},
     "output_type": "display_data"
    }
   ],
   "source": [
    "head(max_height_by_sport_sorted, n=5)"
   ]
  },
  {
   "cell_type": "markdown",
   "id": "8e586edd-ff26-4ce2-8f6b-2424b26f2929",
   "metadata": {},
   "source": [
    "## Question 3"
   ]
  },
  {
   "cell_type": "code",
   "execution_count": 69,
   "id": "bbe0f40d-9655-4653-9ca8-886bdb61cb91",
   "metadata": {},
   "outputs": [],
   "source": [
    "myDF <- read.csv(\"/anvil/projects/tdm/data/death_records/DeathRecords.csv\", stringsAsFactors = TRUE)"
   ]
  },
  {
   "cell_type": "code",
   "execution_count": 7,
   "id": "ae6e6578-03d6-4401-824d-98f86aea70c1",
   "metadata": {},
   "outputs": [
    {
     "data": {
      "text/plain": [
       "[1] 2631171      38"
      ]
     },
     "metadata": {},
     "output_type": "display_data"
    }
   ],
   "source": [
    "dim(myDF)"
   ]
  },
  {
   "cell_type": "markdown",
   "id": "fb0690e4-3452-418f-a986-a2bd4a7835bd",
   "metadata": {},
   "source": [
    "rows in the DF:2631171"
   ]
  },
  {
   "cell_type": "code",
   "execution_count": 10,
   "id": "6546cf52-0715-4b85-a085-266976afed1b",
   "metadata": {},
   "outputs": [],
   "source": [
    "month_order <- c(\"January\", \"February\", \"March\", \"April\", \"May\", \"June\", \"July\", \"August\", \"September\", \"October\", \"November\", \"December\")\n",
    "myDF$MonthOfDeath <- factor(myDF$MonthOfDeath)\n",
    "levels(myDF$MonthOfDeath) <- month_order"
   ]
  },
  {
   "cell_type": "code",
   "execution_count": 12,
   "id": "d6482d22-1192-44a5-9891-a22cb745c567",
   "metadata": {},
   "outputs": [
    {
     "data": {
      "text/plain": [
       "[1] January January January January January January\n",
       "12 Levels: January February March April May June July August ... December"
      ]
     },
     "metadata": {},
     "output_type": "display_data"
    }
   ],
   "source": [
    "head(myDF$MonthOfDeath)"
   ]
  },
  {
   "cell_type": "code",
   "execution_count": 17,
   "id": "69841c98-ebfa-4367-8f8d-20eeeba08191",
   "metadata": {},
   "outputs": [],
   "source": [
    "monthly_death <- tapply(myDF$DayOfWeekOfDeath, myDF$MonthOfDeath, sum)"
   ]
  },
  {
   "cell_type": "code",
   "execution_count": 19,
   "id": "4dbbd19e-abe0-49b1-83cf-62f39a131c9d",
   "metadata": {},
   "outputs": [
    {
     "data": {
      "text/plain": [
       "  January  February     March     April       May      June      July    August \n",
       "  1002078    852148    907659    859787    912682    787816    839139    849437 \n",
       "September   October  November  December \n",
       "   802952    896353    887618    950563 "
      ]
     },
     "metadata": {},
     "output_type": "display_data"
    }
   ],
   "source": [
    "head(monthly_death, n =15)"
   ]
  },
  {
   "cell_type": "markdown",
   "id": "da22f29c-d245-4d2b-9fc1-ca14cb6087d9",
   "metadata": {},
   "source": [
    "## Question 4"
   ]
  },
  {
   "cell_type": "code",
   "execution_count": 66,
   "id": "8cffc767-d1c8-4d64-b7dc-f0d2ee8a80d1",
   "metadata": {},
   "outputs": [],
   "source": [
    "avg_age_by_race <- tapply(myDF$Age, myDF$Race, FUN = mean, na.rm = TRUE)"
   ]
  },
  {
   "cell_type": "code",
   "execution_count": 67,
   "id": "393ce429-5486-448b-94f7-8936a39c9f7c",
   "metadata": {},
   "outputs": [],
   "source": [
    "result_df <- data.frame(Race = names(avg_age_by_race), AvgAge = avg_age_by_race)"
   ]
  },
  {
   "cell_type": "code",
   "execution_count": 72,
   "id": "d50b360b-cece-4b4f-9235-59354121ad40",
   "metadata": {},
   "outputs": [],
   "source": [
    "result_df <- result_df[order(result_df$AvgAge, decreasing = TRUE),]"
   ]
  },
  {
   "cell_type": "code",
   "execution_count": 73,
   "id": "f748fe53-a9c8-47ba-8a70-d7d7d052cebe",
   "metadata": {},
   "outputs": [
    {
     "data": {
      "text/plain": [
       "   Race AvgAge  \n",
       "5  5    82.21547\n",
       "4  4    76.75468\n",
       "1  1    74.51773\n",
       "28 28   72.98769\n",
       "7  7    72.41096\n",
       "48 48   69.85284"
      ]
     },
     "metadata": {},
     "output_type": "display_data"
    }
   ],
   "source": [
    "head(result_df)"
   ]
  },
  {
   "cell_type": "code",
   "execution_count": 78,
   "id": "c2dcb0ff-40e0-4836-9f2c-cffd07e8533c",
   "metadata": {},
   "outputs": [],
   "source": [
    "female_data <- subset(myDF, Sex == \"F\")"
   ]
  },
  {
   "cell_type": "code",
   "execution_count": 79,
   "id": "9d6c71b5-6e53-4dfa-bdcb-101a7a4aa940",
   "metadata": {},
   "outputs": [],
   "source": [
    "avg_age_by_race_female <- tapply(female_data$Age, female_data$Race, FUN = mean, na.rm = TRUE)"
   ]
  },
  {
   "cell_type": "code",
   "execution_count": 80,
   "id": "5ba99782-7f16-4fec-8d7f-319c59ed3a0d",
   "metadata": {},
   "outputs": [],
   "source": [
    "result_female <- data.frame(Race = names(avg_age_by_race_female), AverageAgeFemale = avg_age_by_race_female)"
   ]
  },
  {
   "cell_type": "code",
   "execution_count": 81,
   "id": "84673fe5-bc43-4123-ae50-33a9a1cd0b64",
   "metadata": {},
   "outputs": [
    {
     "data": {
      "text/plain": [
       "  Race AverageAgeFemale\n",
       "1 1    77.70897        \n",
       "2 2    70.00623        \n",
       "3 3    65.40892        \n",
       "4 4    78.88483        \n",
       "5 5    84.32215        \n",
       "6 6    70.87021        "
      ]
     },
     "metadata": {},
     "output_type": "display_data"
    }
   ],
   "source": [
    "head(result_female)"
   ]
  },
  {
   "cell_type": "markdown",
   "id": "88c9cdac-3e92-498f-83fa-e089bfc44ac8",
   "metadata": {},
   "source": [
    "## Question 5"
   ]
  },
  {
   "cell_type": "code",
   "execution_count": 88,
   "id": "d370d7c9-06db-42b9-b75f-240481a5c491",
   "metadata": {},
   "outputs": [
    {
     "data": {
      "image/png": "[encoded data removed]",
      "text/plain": [
       "Plot with title \" Race vs Age\""
      ]
     },
     "metadata": {
      "image/png": {
       "height": 420,
       "width": 420
      }
     },
     "output_type": "display_data"
    }
   ],
   "source": [
    "plot(myDF$Age, myDF$Race, main=\" Race vs Age\", xlab = \"Age\", ylab= \"Race\")"
   ]
  },
  {
   "cell_type": "markdown",
   "id": "301101c8-926c-4997-808c-7d9e5ef0d6d1",
   "metadata": {},
   "source": []
  },
  {
   "cell_type": "code",
   "execution_count": 91,
   "id": "a5e813f5-fba6-4497-ae5d-d684df12a968",
   "metadata": {},
   "outputs": [
    {
     "data": {
      "image/png": "[encoded data removed]",
      "text/plain": [
       "Plot with title \" Year vs Season\""
      ]
     },
     "metadata": {
      "image/png": {
       "height": 420,
       "width": 420
      }
     },
     "output_type": "display_data"
    }
   ],
   "source": [
    "plot(myDF$Year, myDF$Season, main=\" Year vs Season\", xlab = \"Year\", ylab= \"Season\")"
   ]
  },
  {
   "cell_type": "markdown",
   "id": "d74e0a48-d59d-4024-bd92-4c745687488d",
   "metadata": {},
   "source": [
    "the variable \"year\" represents the specific calendar year in which the games were held. \"Season\" typically refers to the type of Olympic Games, such as Summer or Winter, which determines the sports and events featured, and this classification alternates every two years."
   ]
  },
  {
   "cell_type": "markdown",
   "id": "9fbf00fb-2418-460f-ae94-2a32b0c28952",
   "metadata": {},
   "source": [
    "Markdown notes and sentences and analysis written here."
   ]
  },
  {
   "cell_type": "markdown",
   "id": "f76442d6-d02e-4f26-b9d6-c3183e1d6929",
   "metadata": {},
   "source": [
    "## Pledge\n",
    "\n",
    "By submitting this work I hereby pledge that this is my own, personal work. I've acknowledged in the designated place at the top of this file all sources that I used to complete said work, including but not limited to: online resources, books, and electronic communications. I've noted all collaboration with fellow students and/or TA's. I did not copy or plagiarize another's work.\n",
    "\n",
    "> As a Boilermaker pursuing academic excellence, I pledge to be honest and true in all that I do. Accountable together – We are Purdue."
   ]
  }
 ],
 "metadata": {
  "kernelspec": {
   "display_name": "seminar-r",
   "language": "R",
   "name": "seminar-r"
  },
  "language_info": {
   "codemirror_mode": "r",
   "file_extension": ".r",
   "mimetype": "text/x-r-source",
   "name": "R",
   "pygments_lexer": "r",
   "version": "4.3.1"
  }
 },
 "nbformat": 4,
 "nbformat_minor": 5
}
